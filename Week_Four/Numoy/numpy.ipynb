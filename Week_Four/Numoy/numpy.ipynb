{
 "cells": [
  {
   "cell_type": "code",
   "execution_count": 473,
   "metadata": {},
   "outputs": [],
   "source": [
    "import numpy as np"
   ]
  },
  {
   "cell_type": "code",
   "execution_count": 474,
   "metadata": {},
   "outputs": [
    {
     "name": "stdout",
     "output_type": "stream",
     "text": [
      "[1 2 3 4 5 6]\n"
     ]
    }
   ],
   "source": [
    "array_data = [1,2,3,4,5,6]\n",
    "array_one = np.array(array_data)\n",
    "print(array_one)"
   ]
  },
  {
   "cell_type": "code",
   "execution_count": 475,
   "metadata": {},
   "outputs": [
    {
     "name": "stdout",
     "output_type": "stream",
     "text": [
      "<class 'numpy.ndarray'>\n"
     ]
    }
   ],
   "source": [
    "print(type(array_one))"
   ]
  },
  {
   "cell_type": "code",
   "execution_count": 476,
   "metadata": {},
   "outputs": [
    {
     "data": {
      "text/plain": [
       "array([[1., 2., 3.],\n",
       "       [4., 5., 6.]], dtype=float32)"
      ]
     },
     "execution_count": 476,
     "metadata": {},
     "output_type": "execute_result"
    }
   ],
   "source": [
    "list_two = [\n",
    "    [1,2,3],\n",
    "    [4,5,6]\n",
    "]\n",
    "array_two = np.array(list_two , dtype='float32')\n",
    "array_two\n",
    "# print(type(array_two))"
   ]
  },
  {
   "cell_type": "code",
   "execution_count": 477,
   "metadata": {},
   "outputs": [
    {
     "data": {
      "text/plain": [
       "array([0, 0, 0, 0, 0, 0, 0, 0, 0, 0])"
      ]
     },
     "execution_count": 477,
     "metadata": {},
     "output_type": "execute_result"
    }
   ],
   "source": [
    "np.zeros(10,dtype=int)"
   ]
  },
  {
   "cell_type": "code",
   "execution_count": 478,
   "metadata": {},
   "outputs": [
    {
     "data": {
      "text/plain": [
       "array([[0, 0, 0, 0, 0],\n",
       "       [0, 0, 0, 0, 0],\n",
       "       [0, 0, 0, 0, 0]])"
      ]
     },
     "execution_count": 478,
     "metadata": {},
     "output_type": "execute_result"
    }
   ],
   "source": [
    "np.zeros((3,5) , dtype=int)"
   ]
  },
  {
   "cell_type": "code",
   "execution_count": 479,
   "metadata": {},
   "outputs": [
    {
     "data": {
      "text/plain": [
       "array([[1., 1., 1., 1., 1.],\n",
       "       [1., 1., 1., 1., 1.],\n",
       "       [1., 1., 1., 1., 1.]], dtype=float32)"
      ]
     },
     "execution_count": 479,
     "metadata": {},
     "output_type": "execute_result"
    }
   ],
   "source": [
    "np.ones((3,5) , dtype='float32')"
   ]
  },
  {
   "cell_type": "code",
   "execution_count": 480,
   "metadata": {},
   "outputs": [
    {
     "data": {
      "text/plain": [
       "array([[3.14, 3.14, 3.14, 3.14, 3.14],\n",
       "       [3.14, 3.14, 3.14, 3.14, 3.14],\n",
       "       [3.14, 3.14, 3.14, 3.14, 3.14]])"
      ]
     },
     "execution_count": 480,
     "metadata": {},
     "output_type": "execute_result"
    }
   ],
   "source": [
    "np.full((3,5) , 3.14)"
   ]
  },
  {
   "cell_type": "code",
   "execution_count": 481,
   "metadata": {},
   "outputs": [
    {
     "data": {
      "text/plain": [
       "array([[4., 4., 4., 4., 4.],\n",
       "       [4., 4., 4., 4., 4.],\n",
       "       [4., 4., 4., 4., 4.]])"
      ]
     },
     "execution_count": 481,
     "metadata": {},
     "output_type": "execute_result"
    }
   ],
   "source": [
    "np.full((3,5) , 4 , dtype='float64')"
   ]
  },
  {
   "cell_type": "code",
   "execution_count": 482,
   "metadata": {},
   "outputs": [
    {
     "data": {
      "text/plain": [
       "array([ 0,  2,  4,  6,  8, 10, 12, 14, 16, 18])"
      ]
     },
     "execution_count": 482,
     "metadata": {},
     "output_type": "execute_result"
    }
   ],
   "source": [
    "np.arange(0,20,2)\n",
    "# "
   ]
  },
  {
   "cell_type": "code",
   "execution_count": 483,
   "metadata": {},
   "outputs": [
    {
     "data": {
      "text/plain": [
       "array([[0.7682812 , 0.67199501, 0.82699225],\n",
       "       [0.49306329, 0.26326075, 0.20345245],\n",
       "       [0.05757952, 0.74697812, 0.34277576]])"
      ]
     },
     "execution_count": 483,
     "metadata": {},
     "output_type": "execute_result"
    }
   ],
   "source": [
    "np.random.random((3,3))\n"
   ]
  },
  {
   "cell_type": "code",
   "execution_count": 484,
   "metadata": {},
   "outputs": [
    {
     "data": {
      "text/plain": [
       "array([[-1.69731045,  0.01529148, -0.45957371],\n",
       "       [ 0.07511416,  0.73949823,  1.25800834],\n",
       "       [-0.88307821, -1.36251338, -1.33390269]])"
      ]
     },
     "execution_count": 484,
     "metadata": {},
     "output_type": "execute_result"
    }
   ],
   "source": [
    "np.random.normal(0,1,(3,3))"
   ]
  },
  {
   "cell_type": "code",
   "execution_count": 485,
   "metadata": {},
   "outputs": [
    {
     "data": {
      "text/plain": [
       "array([[ 1.38331008, -2.08711937,  0.4180547 ],\n",
       "       [ 2.08875999,  0.24899768,  0.92809583],\n",
       "       [-1.88549095, -0.28421954, -1.14970495]])"
      ]
     },
     "execution_count": 485,
     "metadata": {},
     "output_type": "execute_result"
    }
   ],
   "source": [
    "np.random.normal(0,1,(3,3))\n",
    "# Mean 0 and standard deviation in range of one"
   ]
  },
  {
   "cell_type": "code",
   "execution_count": 486,
   "metadata": {},
   "outputs": [
    {
     "data": {
      "text/plain": [
       "array([[3, 1, 1],\n",
       "       [7, 7, 9],\n",
       "       [1, 9, 6]])"
      ]
     },
     "execution_count": 486,
     "metadata": {},
     "output_type": "execute_result"
    }
   ],
   "source": [
    "np.random.randint(1,10,(3,3))"
   ]
  },
  {
   "cell_type": "code",
   "execution_count": 487,
   "metadata": {},
   "outputs": [
    {
     "data": {
      "text/plain": [
       "(2, 3)"
      ]
     },
     "execution_count": 487,
     "metadata": {},
     "output_type": "execute_result"
    }
   ],
   "source": [
    "array_two.shape\n"
   ]
  },
  {
   "cell_type": "code",
   "execution_count": 488,
   "metadata": {},
   "outputs": [
    {
     "data": {
      "text/plain": [
       "6"
      ]
     },
     "execution_count": 488,
     "metadata": {},
     "output_type": "execute_result"
    }
   ],
   "source": [
    "array_two.size"
   ]
  },
  {
   "cell_type": "code",
   "execution_count": 489,
   "metadata": {},
   "outputs": [
    {
     "data": {
      "text/plain": [
       "dtype('float32')"
      ]
     },
     "execution_count": 489,
     "metadata": {},
     "output_type": "execute_result"
    }
   ],
   "source": [
    "array_two.dtype"
   ]
  },
  {
   "cell_type": "code",
   "execution_count": 490,
   "metadata": {},
   "outputs": [
    {
     "data": {
      "text/plain": [
       "4"
      ]
     },
     "execution_count": 490,
     "metadata": {},
     "output_type": "execute_result"
    }
   ],
   "source": [
    "array_two.itemsize"
   ]
  },
  {
   "cell_type": "code",
   "execution_count": 491,
   "metadata": {},
   "outputs": [
    {
     "data": {
      "text/plain": [
       "2"
      ]
     },
     "execution_count": 491,
     "metadata": {},
     "output_type": "execute_result"
    }
   ],
   "source": [
    "array_two.ndim"
   ]
  },
  {
   "cell_type": "code",
   "execution_count": 492,
   "metadata": {},
   "outputs": [],
   "source": [
    "sample_array = [[1,2,3,4],[5,6,7,8],[9,1,2,3]]\n",
    "np_array = np.array(sample_array)"
   ]
  },
  {
   "cell_type": "code",
   "execution_count": 493,
   "metadata": {},
   "outputs": [
    {
     "name": "stdout",
     "output_type": "stream",
     "text": [
      "Dimension of the array is : 2\n",
      "Size of the array is : (3, 4)\n",
      "RC of the array is : 12\n",
      "Datatype of the array is : int64\n"
     ]
    }
   ],
   "source": [
    "print(f\"Dimension of the array is : {np_array.ndim}\")\n",
    "print(f\"Size of the array is : {np_array.shape}\")\n",
    "print(f\"RC of the array is : {np_array.size}\")\n",
    "print(f\"Datatype of the array is : {np_array.dtype}\")"
   ]
  },
  {
   "cell_type": "code",
   "execution_count": 494,
   "metadata": {},
   "outputs": [
    {
     "name": "stdout",
     "output_type": "stream",
     "text": [
      "Dimension of the array is : 3\n",
      "Size of the array is : (2, 2, 3)\n"
     ]
    }
   ],
   "source": [
    "array_3d = np.array([[[1, 2, 3], [4, 5, 6]], [[7, 8, 9], [10, 11, 12]]])\n",
    "array_3d\n",
    "print(f\"Dimension of the array is : {array_3d.ndim}\")\n",
    "print(f\"Size of the array is : {array_3d.shape}\")"
   ]
  },
  {
   "cell_type": "code",
   "execution_count": 495,
   "metadata": {},
   "outputs": [
    {
     "name": "stdout",
     "output_type": "stream",
     "text": [
      "4\n"
     ]
    }
   ],
   "source": [
    "array_3d = np.array([[[[1, 2, 3], [4, 5, 6]], [[7, 8, 9], [10, 11, 12]]]])\n",
    "array_3d\n",
    "print(array_3d.ndim)"
   ]
  },
  {
   "cell_type": "code",
   "execution_count": 496,
   "metadata": {},
   "outputs": [
    {
     "data": {
      "text/plain": [
       "1"
      ]
     },
     "execution_count": 496,
     "metadata": {},
     "output_type": "execute_result"
    }
   ],
   "source": [
    "# Creating Array\n",
    "class Array:\n",
    "    def __init__(self, data_type, initial_capacity=10):\n",
    "        self.data_type = data_type\n",
    "        self.capacity = initial_capacity\n",
    "        self.size = 0\n",
    "        self.elements = [None] * self.capacity\n",
    "\n",
    "    def append(self, element):\n",
    "        if not isinstance(element, self.data_type):\n",
    "            raise TypeError(f\"Invalid data type. Expected {self.data_type}, got {type(element)}\")\n",
    "        if self.size == self.capacity:\n",
    "            self._resize()\n",
    "        self.elements[self.size] = element\n",
    "        self.size += 1\n",
    "\n",
    "    def __getitem__(self, index):\n",
    "        if index < 0 or index >= self.size:\n",
    "            raise IndexError(\"Index out of range\")\n",
    "        return self.elements[index]\n",
    "\n",
    "    def __len__(self):\n",
    "        return self.size\n",
    "\n",
    "    def _resize(self):\n",
    "        self.capacity *= 2\n",
    "        new_elements = [None] * self.capacity\n",
    "        for i in range(self.size):\n",
    "            new_elements[i] = self.elements[i]\n",
    "        self.elements = new_elements\n",
    "\n",
    "\n",
    "arr = Array(str)\n",
    "# arr.append(1)\n",
    "# arr.append(2)\n",
    "# arr.append(3)\n",
    "\n",
    "\n",
    "arr.append(\"four\")\n",
    "# arr\n",
    "arr.__getitem__(0)\n",
    "arr.__len__()\n",
    "# arr.elements\n",
    "# for data in arr:\n",
    "#     print(data)"
   ]
  },
  {
   "cell_type": "code",
   "execution_count": 497,
   "metadata": {},
   "outputs": [
    {
     "data": {
      "text/plain": [
       "array([[4.9e-324, 9.9e-324, 1.5e-323],\n",
       "       [2.0e-323, 2.5e-323, 3.0e-323]])"
      ]
     },
     "execution_count": 497,
     "metadata": {},
     "output_type": "execute_result"
    }
   ],
   "source": [
    "# Create a array of random values\n",
    "np.empty((2,3))"
   ]
  },
  {
   "cell_type": "code",
   "execution_count": 498,
   "metadata": {},
   "outputs": [
    {
     "data": {
      "text/plain": [
       "array([10, 15, 20, 25, 30, 35, 40, 45])"
      ]
     },
     "execution_count": 498,
     "metadata": {},
     "output_type": "execute_result"
    }
   ],
   "source": [
    "# Create a range with given interval\n",
    "np.arange(10,50,5)"
   ]
  },
  {
   "cell_type": "code",
   "execution_count": 499,
   "metadata": {},
   "outputs": [
    {
     "name": "stdout",
     "output_type": "stream",
     "text": [
      "[1 2 3 4 5]\n"
     ]
    },
    {
     "data": {
      "text/plain": [
       "array([1, 2, 3, 4, 'Sandip'], dtype=object)"
      ]
     },
     "execution_count": 499,
     "metadata": {},
     "output_type": "execute_result"
    }
   ],
   "source": [
    "arr_01 = np.array([1,2,3,4,5])\n",
    "print(arr_01)\n",
    "# arr_02 = np.array([1,2,3,'Sandip'] , dtype=int)\n",
    "# arr_02\n",
    "arr_03 = np.array([1,2,3,4,'Sandip'] ,dtype=object)\n",
    "arr_03"
   ]
  },
  {
   "cell_type": "code",
   "execution_count": 500,
   "metadata": {},
   "outputs": [
    {
     "name": "stdout",
     "output_type": "stream",
     "text": [
      "First Index Element: 0\n",
      "Second Index Element: 1\n",
      "Third Index Element: 2\n",
      "Fourth Index Element: 3\n",
      "Firfth Index Element: 4\n"
     ]
    }
   ],
   "source": [
    "# Array Indexing \n",
    "a = np.array([0,1,2,3,4])\n",
    "\n",
    "print(f\"First Index Element: {a[0]}\")\n",
    "print(f\"Second Index Element: {a[1]}\")\n",
    "print(f\"Third Index Element: {a[2]}\")\n",
    "print(f\"Fourth Index Element: {a[3]}\")\n",
    "print(f\"Firfth Index Element: {a[4]}\")\n"
   ]
  },
  {
   "cell_type": "code",
   "execution_count": 501,
   "metadata": {},
   "outputs": [
    {
     "name": "stdout",
     "output_type": "stream",
     "text": [
      "11\n",
      "12\n",
      "13\n",
      "14\n",
      "15\n",
      "16\n",
      "31\n",
      "32\n",
      "33\n"
     ]
    }
   ],
   "source": [
    "arr_index_2d = np.array([\n",
    "    [11,12,13],\n",
    "    [14,15,16],\n",
    "    [31,32,33]\n",
    "])\n",
    "print(arr_index_2d[0,0])\n",
    "print(arr_index_2d[0,1])\n",
    "print(arr_index_2d[0,2])\n",
    "print(arr_index_2d[1,0])\n",
    "print(arr_index_2d[1,1])\n",
    "print(arr_index_2d[1,2])\n",
    "print(arr_index_2d[2,0])\n",
    "print(arr_index_2d[2,1])\n",
    "print(arr_index_2d[2,2])\n"
   ]
  },
  {
   "cell_type": "code",
   "execution_count": 502,
   "metadata": {},
   "outputs": [
    {
     "data": {
      "text/plain": [
       "array([ 1,  3,  5, 77])"
      ]
     },
     "execution_count": 502,
     "metadata": {},
     "output_type": "execute_result"
    }
   ],
   "source": [
    "# Slicing in array \n",
    "cusotm_array = np.array([1,2,3,4,5,6,77,89])\n",
    "cusotm_array[0::2]\n"
   ]
  },
  {
   "cell_type": "code",
   "execution_count": 503,
   "metadata": {},
   "outputs": [
    {
     "data": {
      "text/plain": [
       "array([89, 77,  6,  5,  4,  3,  2,  1])"
      ]
     },
     "execution_count": 503,
     "metadata": {},
     "output_type": "execute_result"
    }
   ],
   "source": [
    "# Reversing array left to Right\n",
    "reverse_array = cusotm_array[: : -1]\n",
    "reverse_array"
   ]
  },
  {
   "cell_type": "code",
   "execution_count": 504,
   "metadata": {},
   "outputs": [
    {
     "data": {
      "text/plain": [
       "array([ 6, 77])"
      ]
     },
     "execution_count": 504,
     "metadata": {},
     "output_type": "execute_result"
    }
   ],
   "source": [
    "cusotm_array[-3:-1]"
   ]
  },
  {
   "cell_type": "code",
   "execution_count": 505,
   "metadata": {},
   "outputs": [],
   "source": [
    "array_2d = np.array([[11,12,13],[21,22,33],[31,32,33]])"
   ]
  },
  {
   "cell_type": "code",
   "execution_count": 506,
   "metadata": {},
   "outputs": [
    {
     "data": {
      "text/plain": [
       "array([[11, 12, 13],\n",
       "       [21, 22, 33],\n",
       "       [31, 32, 33]])"
      ]
     },
     "execution_count": 506,
     "metadata": {},
     "output_type": "execute_result"
    }
   ],
   "source": [
    "array_2d"
   ]
  },
  {
   "cell_type": "code",
   "execution_count": 507,
   "metadata": {},
   "outputs": [
    {
     "data": {
      "text/plain": [
       "array([22, 33])"
      ]
     },
     "execution_count": 507,
     "metadata": {},
     "output_type": "execute_result"
    }
   ],
   "source": [
    "array_2d[1,1:]"
   ]
  },
  {
   "cell_type": "code",
   "execution_count": 508,
   "metadata": {},
   "outputs": [
    {
     "name": "stdout",
     "output_type": "stream",
     "text": [
      "The memory location of new_array is 4652312464\n",
      "The memory location of copy_array is 0x1154ca790\n"
     ]
    }
   ],
   "source": [
    "# Copy and view\n",
    "new_array = np.array([1,2,3,4,5,6])\n",
    "copy_array = new_array\n",
    "print(f\"The memory location of new_array is {id(new_array)}\")\n",
    "print(f\"The memory location of copy_array is {hex(id(copy_array))}\")"
   ]
  },
  {
   "cell_type": "code",
   "execution_count": 509,
   "metadata": {},
   "outputs": [
    {
     "name": "stdout",
     "output_type": "stream",
     "text": [
      "The memory location of new_copy_array is 4657452624\n"
     ]
    }
   ],
   "source": [
    "# Copy\n",
    "new_copy = new_array.copy()\n",
    "print(f\"The memory location of new_copy_array is {(id(new_copy))}\")\n"
   ]
  },
  {
   "cell_type": "code",
   "execution_count": 510,
   "metadata": {},
   "outputs": [
    {
     "name": "stdout",
     "output_type": "stream",
     "text": [
      "The memory location of new_array is 4652312464\n",
      "The memory location of view_array is 4652305840\n",
      "The memory location of test_array is 4652313520\n",
      "[1 3 5]\n"
     ]
    }
   ],
   "source": [
    "# View array\n",
    "view_array = new_array[::2]\n",
    "test_array = view_array.copy()\n",
    "print(f\"The memory location of new_array is {(id(new_array))}\")\n",
    "print(f\"The memory location of view_array is {(id(view_array))}\")\n",
    "print(f\"The memory location of test_array is {(id(test_array))}\")\n",
    "\n",
    "print(test_array)\n",
    "test_array[0] = 12\n"
   ]
  },
  {
   "cell_type": "code",
   "execution_count": 511,
   "metadata": {},
   "outputs": [
    {
     "name": "stdout",
     "output_type": "stream",
     "text": [
      "[1 2 3 4 5 6]\n",
      "The memory location of new_array is 4652312464\n",
      "The memory location of view_array is 4652305840\n"
     ]
    }
   ],
   "source": [
    "print(new_array)\n",
    "print(f\"The memory location of new_array is {(id(new_array))}\")\n",
    "print(f\"The memory location of view_array is {(id(view_array))}\")\n",
    "\n"
   ]
  },
  {
   "cell_type": "code",
   "execution_count": 512,
   "metadata": {},
   "outputs": [],
   "source": [
    "# Memory kati lagiraxa rw Time coplexity kati upto 3D array => Assignment\n",
    "# Task_2 => User input and create 2D array and print Diagonal elements\n",
    "\n"
   ]
  },
  {
   "cell_type": "code",
   "execution_count": 513,
   "metadata": {},
   "outputs": [
    {
     "data": {
      "text/plain": [
       "['T',\n",
       " '__abs__',\n",
       " '__add__',\n",
       " '__and__',\n",
       " '__array__',\n",
       " '__array_finalize__',\n",
       " '__array_function__',\n",
       " '__array_interface__',\n",
       " '__array_prepare__',\n",
       " '__array_priority__',\n",
       " '__array_struct__',\n",
       " '__array_ufunc__',\n",
       " '__array_wrap__',\n",
       " '__bool__',\n",
       " '__class__',\n",
       " '__class_getitem__',\n",
       " '__complex__',\n",
       " '__contains__',\n",
       " '__copy__',\n",
       " '__deepcopy__',\n",
       " '__delattr__',\n",
       " '__delitem__',\n",
       " '__dir__',\n",
       " '__divmod__',\n",
       " '__dlpack__',\n",
       " '__dlpack_device__',\n",
       " '__doc__',\n",
       " '__eq__',\n",
       " '__float__',\n",
       " '__floordiv__',\n",
       " '__format__',\n",
       " '__ge__',\n",
       " '__getattribute__',\n",
       " '__getitem__',\n",
       " '__gt__',\n",
       " '__hash__',\n",
       " '__iadd__',\n",
       " '__iand__',\n",
       " '__ifloordiv__',\n",
       " '__ilshift__',\n",
       " '__imatmul__',\n",
       " '__imod__',\n",
       " '__imul__',\n",
       " '__index__',\n",
       " '__init__',\n",
       " '__init_subclass__',\n",
       " '__int__',\n",
       " '__invert__',\n",
       " '__ior__',\n",
       " '__ipow__',\n",
       " '__irshift__',\n",
       " '__isub__',\n",
       " '__iter__',\n",
       " '__itruediv__',\n",
       " '__ixor__',\n",
       " '__le__',\n",
       " '__len__',\n",
       " '__lshift__',\n",
       " '__lt__',\n",
       " '__matmul__',\n",
       " '__mod__',\n",
       " '__mul__',\n",
       " '__ne__',\n",
       " '__neg__',\n",
       " '__new__',\n",
       " '__or__',\n",
       " '__pos__',\n",
       " '__pow__',\n",
       " '__radd__',\n",
       " '__rand__',\n",
       " '__rdivmod__',\n",
       " '__reduce__',\n",
       " '__reduce_ex__',\n",
       " '__repr__',\n",
       " '__rfloordiv__',\n",
       " '__rlshift__',\n",
       " '__rmatmul__',\n",
       " '__rmod__',\n",
       " '__rmul__',\n",
       " '__ror__',\n",
       " '__rpow__',\n",
       " '__rrshift__',\n",
       " '__rshift__',\n",
       " '__rsub__',\n",
       " '__rtruediv__',\n",
       " '__rxor__',\n",
       " '__setattr__',\n",
       " '__setitem__',\n",
       " '__setstate__',\n",
       " '__sizeof__',\n",
       " '__str__',\n",
       " '__sub__',\n",
       " '__subclasshook__',\n",
       " '__truediv__',\n",
       " '__xor__',\n",
       " 'all',\n",
       " 'any',\n",
       " 'argmax',\n",
       " 'argmin',\n",
       " 'argpartition',\n",
       " 'argsort',\n",
       " 'astype',\n",
       " 'base',\n",
       " 'byteswap',\n",
       " 'choose',\n",
       " 'clip',\n",
       " 'compress',\n",
       " 'conj',\n",
       " 'conjugate',\n",
       " 'copy',\n",
       " 'ctypes',\n",
       " 'cumprod',\n",
       " 'cumsum',\n",
       " 'data',\n",
       " 'diagonal',\n",
       " 'dot',\n",
       " 'dtype',\n",
       " 'dump',\n",
       " 'dumps',\n",
       " 'fill',\n",
       " 'flags',\n",
       " 'flat',\n",
       " 'flatten',\n",
       " 'getfield',\n",
       " 'imag',\n",
       " 'item',\n",
       " 'itemset',\n",
       " 'itemsize',\n",
       " 'max',\n",
       " 'mean',\n",
       " 'min',\n",
       " 'nbytes',\n",
       " 'ndim',\n",
       " 'newbyteorder',\n",
       " 'nonzero',\n",
       " 'partition',\n",
       " 'prod',\n",
       " 'ptp',\n",
       " 'put',\n",
       " 'ravel',\n",
       " 'real',\n",
       " 'repeat',\n",
       " 'reshape',\n",
       " 'resize',\n",
       " 'round',\n",
       " 'searchsorted',\n",
       " 'setfield',\n",
       " 'setflags',\n",
       " 'shape',\n",
       " 'size',\n",
       " 'sort',\n",
       " 'squeeze',\n",
       " 'std',\n",
       " 'strides',\n",
       " 'sum',\n",
       " 'swapaxes',\n",
       " 'take',\n",
       " 'tobytes',\n",
       " 'tofile',\n",
       " 'tolist',\n",
       " 'tostring',\n",
       " 'trace',\n",
       " 'transpose',\n",
       " 'var',\n",
       " 'view']"
      ]
     },
     "execution_count": 513,
     "metadata": {},
     "output_type": "execute_result"
    }
   ],
   "source": [
    "dir(new_array)"
   ]
  },
  {
   "cell_type": "code",
   "execution_count": 514,
   "metadata": {},
   "outputs": [
    {
     "data": {
      "text/plain": [
       "array([7, 6, 5, 4, 3, 2, 1])"
      ]
     },
     "execution_count": 514,
     "metadata": {},
     "output_type": "execute_result"
    }
   ],
   "source": [
    "\n",
    "custom_array = np.array([1,2,3,4,5,6,7])\n",
    "custom_array[-1::-1]\n"
   ]
  },
  {
   "cell_type": "code",
   "execution_count": 515,
   "metadata": {},
   "outputs": [
    {
     "name": "stdout",
     "output_type": "stream",
     "text": [
      "[0.   1.57 3.14]\n"
     ]
    },
    {
     "data": {
      "text/plain": [
       "array([ 0.        ,  3.63636364,  7.27272727, 10.90909091, 14.54545455,\n",
       "       18.18181818, 21.81818182, 25.45454545, 29.09090909, 32.72727273,\n",
       "       36.36363636, 40.        ])"
      ]
     },
     "execution_count": 515,
     "metadata": {},
     "output_type": "execute_result"
    }
   ],
   "source": [
    "pi =3.14\n",
    "b = np.linspace(0, pi, 3)\n",
    "print(b)\n",
    "np.linspace(0,40,12)\n"
   ]
  },
  {
   "cell_type": "code",
   "execution_count": 516,
   "metadata": {},
   "outputs": [
    {
     "data": {
      "text/plain": [
       "array([ 1.00000000e+00+0.j        ,  7.96326711e-04+0.99999968j,\n",
       "       -9.99998732e-01+0.00159265j])"
      ]
     },
     "execution_count": 516,
     "metadata": {},
     "output_type": "execute_result"
    }
   ],
   "source": [
    "d = np.exp(b * 1j)\n",
    "d"
   ]
  },
  {
   "cell_type": "code",
   "execution_count": 517,
   "metadata": {},
   "outputs": [
    {
     "name": "stdout",
     "output_type": "stream",
     "text": [
      "10\n",
      "4\n",
      "1\n"
     ]
    }
   ],
   "source": [
    "new_array = np.array([1,2,3,4])\n",
    "print(new_array.sum())\n",
    "print(new_array.max())\n",
    "print(new_array.min())"
   ]
  },
  {
   "cell_type": "code",
   "execution_count": 518,
   "metadata": {},
   "outputs": [
    {
     "data": {
      "text/plain": [
       "array([[ 0,  1,  2,  3],\n",
       "       [ 4,  5,  6,  7],\n",
       "       [ 8,  9, 10, 11],\n",
       "       [12, 13, 14, 15]])"
      ]
     },
     "execution_count": 518,
     "metadata": {},
     "output_type": "execute_result"
    }
   ],
   "source": [
    "b = np.arange(16).reshape(4,4)\n",
    "b"
   ]
  },
  {
   "cell_type": "code",
   "execution_count": 519,
   "metadata": {},
   "outputs": [
    {
     "name": "stdout",
     "output_type": "stream",
     "text": [
      "[ 6 22 38 54]\n",
      "[24 28 32 36]\n"
     ]
    }
   ],
   "source": [
    "# X-axis\n",
    "print(b.sum(axis=1) )\n",
    "# Y-axis\n",
    "print(b.sum(axis=0))"
   ]
  },
  {
   "cell_type": "code",
   "execution_count": 520,
   "metadata": {},
   "outputs": [
    {
     "name": "stdout",
     "output_type": "stream",
     "text": [
      "[0 1 2 3]\n",
      "[ 0  4  8 12]\n",
      "[12 13 14 15]\n",
      "[ 3  7 11 15]\n"
     ]
    }
   ],
   "source": [
    "print(b.min(axis=0))\n",
    "print(b.min(axis=1))\n",
    "print(b.max(axis=0))\n",
    "print(b.max(axis=1))"
   ]
  },
  {
   "cell_type": "code",
   "execution_count": 521,
   "metadata": {},
   "outputs": [
    {
     "name": "stdout",
     "output_type": "stream",
     "text": [
      "[[ 0  1  3  6]\n",
      " [ 4  9 15 22]\n",
      " [ 8 17 27 38]\n",
      " [12 25 39 54]]\n",
      "[[ 0  1  2  3]\n",
      " [ 4  6  8 10]\n",
      " [12 15 18 21]\n",
      " [24 28 32 36]]\n"
     ]
    }
   ],
   "source": [
    "print(b.cumsum(axis=1))\n",
    "print(b.cumsum(axis=0))\n"
   ]
  },
  {
   "cell_type": "code",
   "execution_count": 522,
   "metadata": {},
   "outputs": [
    {
     "data": {
      "text/plain": [
       "array([[ 0,  1,  2,  3],\n",
       "       [10, 11, 12, 13],\n",
       "       [20, 21, 22, 23],\n",
       "       [30, 31, 32, 33]])"
      ]
     },
     "execution_count": 522,
     "metadata": {},
     "output_type": "execute_result"
    }
   ],
   "source": [
    "def f(x,y):\n",
    "    return 10*x+y\n",
    "\n",
    "def c(x):\n",
    "    return 10*x\n",
    "\n",
    "b = np.fromfunction(f , (4,4) , dtype=int)\n",
    "b"
   ]
  },
  {
   "cell_type": "code",
   "execution_count": 523,
   "metadata": {},
   "outputs": [
    {
     "data": {
      "text/plain": [
       "array([ 0, 10, 20, 30])"
      ]
     },
     "execution_count": 523,
     "metadata": {},
     "output_type": "execute_result"
    }
   ],
   "source": [
    "def c(x):\n",
    "    return 10 * x\n",
    "\n",
    "# Create a 1D array using fromfunction\n",
    "result = np.fromfunction(c, (4,), dtype=int)\n",
    "result"
   ]
  },
  {
   "cell_type": "code",
   "execution_count": 524,
   "metadata": {},
   "outputs": [
    {
     "name": "stdout",
     "output_type": "stream",
     "text": [
      "Initial array:\n",
      "None None None \n",
      "After insertion of 1D array at index 1:\n",
      "None [1, 2, 3] None None \n",
      "After insertion of 2D array at index 2:\n",
      "None [1, 2, 3] [[4, 5], [6, 7]] None None \n",
      "After insertion of 3D array at index 3:\n",
      "None [1, 2, 3] [[4, 5], [6, 7]] [[[8, 9], [10, 11]], [[12, 13], [14, 15]]] None None \n",
      "After deletion at index 3:\n",
      "None [1, 2, 3] [[4, 5], [6, 7]] None None \n",
      "After updating at index 1:\n",
      "None 20 [[4, 5], [6, 7]] None None \n",
      "After sorting:\n",
      "None [[4, 5], [6, 7]] None None 20 \n",
      "Indices of element 10: None\n"
     ]
    }
   ],
   "source": [
    "class SimpleArray:\n",
    "    def __init__(self, size):\n",
    "        self.size = size\n",
    "        self.data = [None] * size\n",
    "\n",
    "    def __getitem__(self, index):\n",
    "        return self.data[index]\n",
    "\n",
    "    def __setitem__(self, index, value):\n",
    "        self.data[index] = value\n",
    "\n",
    "    def insert(self, index, value):\n",
    "        if isinstance(value, (list, tuple)):  # Check if value is a list or tuple\n",
    "            if all(isinstance(elem, (list, tuple)) for elem in value):  # Check if all elements are lists or tuples\n",
    "                # Inserting a multi-dimensional array\n",
    "                self.data.insert(index, value)\n",
    "                self.size += 1\n",
    "            elif all(isinstance(elem, (int, float)) for elem in value):  # Check if all elements are integers or floats\n",
    "                # Inserting a 1D array\n",
    "                self.data.insert(index, value)\n",
    "                self.size += 1\n",
    "            else:\n",
    "                print(\"Error: Insertion of non-array values is not supported\")\n",
    "        else:\n",
    "            print(\"Error: Insertion of non-array values is not supported\")\n",
    "\n",
    "    def delete(self, index):\n",
    "        del self.data[index]\n",
    "        self.size -= 1\n",
    "\n",
    "    def update(self, index, value):\n",
    "        self.data[index] = value\n",
    "\n",
    "    def traverse(self):\n",
    "        for i in range(self.size):\n",
    "            print(self.data[i], end=\" \")\n",
    "        print()\n",
    "\n",
    "    def sort(self):\n",
    "        # Move None values to the end\n",
    "        self.data.sort(key=lambda x: (x is None, x) if isinstance(x, (int, float)) else (False,))\n",
    "\n",
    "    def search(self, value):\n",
    "        indices = [i for i, x in enumerate(self.data) if x == value]\n",
    "        return indices if indices else None\n",
    "\n",
    "\n",
    "# Test the SimpleArray class with insertion of arrays\n",
    "arr = SimpleArray(3)\n",
    "print(\"Initial array:\")\n",
    "arr.traverse()\n",
    "\n",
    "# Insertion of 1D array\n",
    "arr.insert(1, [1, 2, 3])\n",
    "print(\"After insertion of 1D array at index 1:\")\n",
    "arr.traverse()\n",
    "\n",
    "# Insertion of 2D array\n",
    "arr.insert(2, [[4, 5], [6, 7]])\n",
    "print(\"After insertion of 2D array at index 2:\")\n",
    "arr.traverse()\n",
    "\n",
    "# Insertion of 3D array\n",
    "arr.insert(3, [[[8, 9], [10, 11]], [[12, 13], [14, 15]]])\n",
    "print(\"After insertion of 3D array at index 3:\")\n",
    "arr.traverse()\n",
    "\n",
    "# Deletion\n",
    "arr.delete(3)\n",
    "print(\"After deletion at index 3:\")\n",
    "arr.traverse()\n",
    "\n",
    "# Updating\n",
    "arr.update(1, 20)\n",
    "print(\"After updating at index 1:\")\n",
    "arr.traverse()\n",
    "\n",
    "# Sorting\n",
    "arr.sort()\n",
    "print(\"After sorting:\")\n",
    "arr.traverse()\n",
    "\n",
    "# Searching\n",
    "index = arr.search(10)\n",
    "print(\"Indices of element 10:\", index)\n"
   ]
  },
  {
   "cell_type": "code",
   "execution_count": 537,
   "metadata": {},
   "outputs": [
    {
     "name": "stdout",
     "output_type": "stream",
     "text": [
      "Initial array:\n",
      "None None None \n",
      "After insertion of 1D array at index 1:\n",
      "None [1, 2, 3] None None \n",
      "Error: Insertion of non-homogeneous data is not supported\n",
      "After insertion of 2D array at index 2:\n",
      "None [1, 2, 3] None None \n",
      "Error: Insertion of non-homogeneous data is not supported\n",
      "After insertion of 3D array at index 3:\n",
      "None [1, 2, 3] None None \n",
      "After deletion at index 3:\n",
      "None [1, 2, 3] None \n",
      "After updating at index 1:\n",
      "None 20 None \n",
      "After sorting:\n",
      "None None 20 \n",
      "Indices of element 10: None\n"
     ]
    }
   ],
   "source": [
    "class SimpleArray:\n",
    "    def __init__(self, size):\n",
    "        self.size = size\n",
    "        self.data = [None] * size\n",
    "\n",
    "    def __getitem__(self, index):\n",
    "        return self.data[index]\n",
    "\n",
    "    def __setitem__(self, index, value):\n",
    "        self.data[index] = value\n",
    "\n",
    "    def insert(self, index, value, data_type):\n",
    "        if isinstance(value, (list, tuple)):  # Check if value is a list or tuple\n",
    "            if all(isinstance(elem, data_type) for elem in value):  # Check if all elements are of the specified data type\n",
    "                # Insert the value\n",
    "                self.data.insert(index, value)\n",
    "                self.size += 1\n",
    "            else:\n",
    "                print(\"Error: Insertion of non-homogeneous data is not supported\")\n",
    "        else:\n",
    "            print(\"Error: Insertion of non-array values is not supported\")\n",
    "\n",
    "    def delete(self, index):\n",
    "        del self.data[index]\n",
    "        self.size -= 1\n",
    "\n",
    "    def update(self, index, value):\n",
    "        self.data[index] = value\n",
    "\n",
    "    def traverse(self):\n",
    "        for i in range(self.size):\n",
    "            print(self.data[i], end=\" \")\n",
    "        print()\n",
    "\n",
    "    def sort(self):\n",
    "        # Move None values to the end\n",
    "        self.data.sort(key=lambda x: (x is None, x) if isinstance(x, (int, float)) else (False,))\n",
    "\n",
    "    def search(self, value):\n",
    "        indices = [i for i, x in enumerate(self.data) if x == value]\n",
    "        return indices if indices else None\n",
    "\n",
    "\n",
    "# Test the SimpleArray class with insertion of arrays\n",
    "arr = SimpleArray(3)\n",
    "print(\"Initial array:\")\n",
    "arr.traverse()\n",
    "\n",
    "# Insertion of 1D array\n",
    "arr.insert(1, [1, 2, 3], int)\n",
    "print(\"After insertion of 1D array at index 1:\")\n",
    "arr.traverse()\n",
    "\n",
    "# Insertion of 2D array\n",
    "arr.insert(2, [[4, 5], [6, 7]], int)\n",
    "print(\"After insertion of 2D array at index 2:\")\n",
    "arr.traverse()\n",
    "\n",
    "# Insertion of 3D array\n",
    "arr.insert(3, [[[8, 9], [10, 11]], [[12, 13], [14, 15]]], int)\n",
    "print(\"After insertion of 3D array at index 3:\")\n",
    "arr.traverse()\n",
    "\n",
    "# Deletion\n",
    "arr.delete(3)\n",
    "print(\"After deletion at index 3:\")\n",
    "arr.traverse()\n",
    "\n",
    "# Updating\n",
    "arr.update(1, 20)\n",
    "print(\"After updating at index 1:\")\n",
    "arr.traverse()\n",
    "\n",
    "# Sorting\n",
    "arr.sort()\n",
    "print(\"After sorting:\")\n",
    "arr.traverse()\n",
    "\n",
    "# Searching\n",
    "index = arr.search(10)\n",
    "print(\"Indices of element 10:\", index)\n"
   ]
  },
  {
   "cell_type": "code",
   "execution_count": null,
   "metadata": {},
   "outputs": [],
   "source": []
  },
  {
   "cell_type": "code",
   "execution_count": null,
   "metadata": {},
   "outputs": [],
   "source": []
  }
 ],
 "metadata": {
  "kernelspec": {
   "display_name": "Python 3",
   "language": "python",
   "name": "python3"
  },
  "language_info": {
   "codemirror_mode": {
    "name": "ipython",
    "version": 3
   },
   "file_extension": ".py",
   "mimetype": "text/x-python",
   "name": "python",
   "nbconvert_exporter": "python",
   "pygments_lexer": "ipython3",
   "version": "3.10.4"
  }
 },
 "nbformat": 4,
 "nbformat_minor": 2
}
