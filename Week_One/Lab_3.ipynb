{
 "cells": [
  {
   "cell_type": "code",
   "execution_count": 6,
   "id": "850fd432-e5fd-4d47-a190-81a0967fb883",
   "metadata": {},
   "outputs": [
    {
     "name": "stdout",
     "output_type": "stream",
     "text": [
      "Datat type of : 10 is <class 'int'>\n",
      "Datat type of : (1+2j) is <class 'complex'>\n",
      "String Type : <class 'str'>\n"
     ]
    }
   ],
   "source": [
    "int_type = 10\n",
    "print(\"Datat type of :\" , int_type , \"is\" , type(int_type))\n",
    "\n",
    "complex = 1 + 2j\n",
    "print(\"Datat type of :\" , complex , \"is\" , type(complex))\n",
    "\n",
    "string_type = \"Hello World\"\n",
    "print(f\"String Type : {type(string_type)}\")\n"
   ]
  },
  {
   "cell_type": "code",
   "execution_count": 7,
   "id": "8a23ae5a-3353-4532-b9c6-0b2ca680aa63",
   "metadata": {},
   "outputs": [
    {
     "name": "stdin",
     "output_type": "stream",
     "text": [
      "Enter First Number 22\n",
      "Enter Second Number 22\n"
     ]
    },
    {
     "name": "stdout",
     "output_type": "stream",
     "text": [
      "Number are Equal  and Value is :  22\n"
     ]
    }
   ],
   "source": [
    "firstNumber = int(input(\"Enter First Number\"))\n",
    "secondNumber = int(input(\"Enter Second Number\"))\n",
    "if firstNumber > secondNumber:\n",
    "     print(\"First Number is Larger \" , firstNumber)\n",
    "elif firstNumber == secondNumber : \n",
    "     print(\"Number are Equal \" , \"and Value is : \" , firstNumber )\n",
    "elif secondNumber > firstNumber :\n",
    "     print(\"Second Number is larger\", secondNumber)\n",
    "\n",
    "                   \n",
    "                "
   ]
  },
  {
   "cell_type": "code",
   "execution_count": null,
   "id": "d26ff804-5f28-4022-85b2-62a4ad239996",
   "metadata": {},
   "outputs": [],
   "source": []
  }
 ],
 "metadata": {
  "kernelspec": {
   "display_name": "Python 3 (ipykernel)",
   "language": "python",
   "name": "python3"
  },
  "language_info": {
   "codemirror_mode": {
    "name": "ipython",
    "version": 3
   },
   "file_extension": ".py",
   "mimetype": "text/x-python",
   "name": "python",
   "nbconvert_exporter": "python",
   "pygments_lexer": "ipython3",
   "version": "3.12.2"
  }
 },
 "nbformat": 4,
 "nbformat_minor": 5
}
