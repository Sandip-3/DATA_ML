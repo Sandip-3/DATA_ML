{
 "cells": [
  {
   "cell_type": "code",
   "execution_count": 55,
   "id": "ac81e983-5fa0-4a9c-bd8a-bb9ab9876588",
   "metadata": {},
   "outputs": [
    {
     "name": "stdout",
     "output_type": "stream",
     "text": [
      "The Tuple is ('Hello', 'World', 79, 33) and it's type is <class 'tuple'>\n",
      "Displaying length of Tuple 4\n",
      "\n",
      "The Nested Tuple is ('Hello', ('World', 'Nested', 'Tuple'), 79, 33) ans it's type  is <class 'tuple'>\n",
      "Displaying length of Tuple 4\n"
     ]
    }
   ],
   "source": [
    "# Creating Tuple\n",
    "simple_tuple = (\"Hello\" , \"World\" , 79 ,33)\n",
    "print(f\"The Tuple is {simple_tuple} and it's type is {type(simple_tuple)}\")\n",
    "print(f\"Displaying length of Tuple {len(simple_tuple)}\")\n",
    "\n",
    "\n",
    "# Creating Nested Tuple\n",
    "nested_tuple = (\"Hello\" , ( \"World\" , \"Nested\" , \"Tuple\") , 79 ,33)\n",
    "print(f\"\\nThe Nested Tuple is {nested_tuple} ans it's type  is {type(nested_tuple)}\")\n",
    "print(f\"Displaying length of Tuple {len(nested_tuple)}\")\n"
   ]
  },
  {
   "cell_type": "code",
   "execution_count": 13,
   "id": "39793a48-23fd-4134-b3ed-b58f36f559ad",
   "metadata": {},
   "outputs": [
    {
     "name": "stdout",
     "output_type": "stream",
     "text": [
      "It's type is <class 'list'>\n",
      "\n",
      "Hence the converted Tuple is ('Hello', 'this', 'is', 'the', 'simple', 'string') and it's type is <class 'tuple'>\n"
     ]
    }
   ],
   "source": [
    "#  Typecasting String to List and List to Tuple\n",
    "simple_string = \"Hello this is the simple string\"\n",
    "_list= simple_string.split(\" \")\n",
    "print(f\"It's type is {type(_list)}\")\n",
    "_tuple = tuple(new_string)\n",
    "print(f\"\\nHence the converted Tuple is {_tuple} and it's type is {type(_tuple)}\")"
   ]
  },
  {
   "cell_type": "code",
   "execution_count": 56,
   "id": "09204fda-ee6d-4c1c-ac50-f06f104a8022",
   "metadata": {},
   "outputs": [
    {
     "name": "stdout",
     "output_type": "stream",
     "text": [
      "Simple Tuple is (0, 1, 2, 3, 4, 5) \n",
      "\n",
      "First item using positive index is : 0\n",
      "\n",
      "Last item using positive index is 5\n",
      "\n",
      "First item using negstive index is 0\n",
      "\n",
      "Last item using negative index is 5\n"
     ]
    }
   ],
   "source": [
    "# Indexing Tuple \n",
    "\n",
    "# Initialize simple tuple of length 5\n",
    "index_tuple = (0,1,2,3,4,5)\n",
    "print(f\"Simple Tuple is {index_tuple} \")\n",
    "\n",
    "# Print 1st item using positive index\n",
    "print(f\"\\nFirst item using positive index is : {index_tuple[0]}\")\n",
    "\n",
    "# Print last item using positive index\n",
    "print(f\"\\nLast item using positive index is {index_tuple[len(index_tuple)-1]}\")\n",
    "\n",
    "# Print 1st item using negative index\n",
    "print(f\"\\nFirst item using negstive index is {index_tuple[-len(index_tuple)]}\")\n",
    "\n",
    "# Print last item using negative index\n",
    "print(f\"\\nLast item using negative index is {index_tuple[-1]}\")"
   ]
  },
  {
   "cell_type": "code",
   "execution_count": 57,
   "id": "d55ef3fb-2bfe-4239-8e17-1d849b39d5c3",
   "metadata": {},
   "outputs": [
    {
     "name": "stdout",
     "output_type": "stream",
     "text": [
      "First three items using positive index is ('item1', 2, 'item3')\n",
      "\n",
      "Last three items using negative index is (2, 'item3', 4)\n",
      "\n",
      "Items at even index is ('item1', 'item3')\n",
      "\n",
      "Items is ('item3', 2, 'item1')\n",
      "\n",
      "Items is (4, 'item3', 2)\n",
      "\n",
      "Reverse is (4, 'item3', 2, 'item1')\n"
     ]
    }
   ],
   "source": [
    "# Slicing Tuple\n",
    "simple_tuple = (\"item1\", 2, 'item3', 4)\n",
    "\n",
    "# Slice first 3 items using positive index\n",
    "print(f\"First three items using positive index is {simple_tuple[:3]}\")\n",
    "\n",
    "# Slice last 3 items using negative index\n",
    "print(f\"\\nLast three items using negative index is {simple_tuple[-3:]}\")\n",
    "\n",
    "# Get tuple items at even index\n",
    "print(f\"\\nItems at even index is {simple_tuple[::2]}\")\n",
    "\n",
    "# Slice first 3 tuple items using negative index\n",
    "print(f\"\\nItems is {simple_tuple[2::-1]}\")\n",
    "\n",
    "# Slice last 3 tuple items using negative index\n",
    "print(f\"\\nItems is {simple_tuple[-1:-4:-1]}\")\n",
    "\n",
    "# Reverse tuple\n",
    "print(f\"\\nReverse is {simple_tuple[::-1]}\")\n",
    "\n",
    "# Tuples are immutable"
   ]
  },
  {
   "cell_type": "code",
   "execution_count": 58,
   "id": "8fc76fa3-3e77-4bf7-afea-3a047438efaf",
   "metadata": {},
   "outputs": [
    {
     "name": "stdout",
     "output_type": "stream",
     "text": [
      "Count or repeated items in Tuple is 4\n",
      "\n",
      "Index of given number is 5\n"
     ]
    }
   ],
   "source": [
    "# Tuple Methods\n",
    "tuple_method = (1, 2, 2, 2, 3, 4, 2, 5,4, 6, 7)\n",
    "\n",
    "# Count number of occurence of item \"2\"\n",
    "print(f\"Count or repeated items in Tuple is {tuple_method.count(2)}\")\n",
    "\n",
    "# Get index of first item \"4\"\n",
    "print(f\"\\nIndex of given number is {tuple_method.index(4)}\")"
   ]
  },
  {
   "cell_type": "code",
   "execution_count": 59,
   "id": "9431ef69-b95b-4c73-afe0-386f9b06a8ec",
   "metadata": {},
   "outputs": [
    {
     "name": "stdout",
     "output_type": "stream",
     "text": [
      "Items after adding in Tuple using List is (1, 2, 3, 4, 5, 6, 7, 8)\n",
      "\n",
      "Tuple after concate is (1, 2, 3, 4, 5, 6, 7, 8)\n"
     ]
    }
   ],
   "source": [
    "# Add items in Tuple\n",
    "\n",
    "# First Approach (Convert into list append items and cast to tuple)\n",
    "_tuple = (1,2,3,4,5,6,7)\n",
    "_list = list(_tuple)\n",
    "_list.append(8)\n",
    "_tuple = tuple(_list)\n",
    "print(f\"Items after adding in Tuple using List is {_tuple}\")\n",
    "\n",
    "# Second approach (Concating Tuple)\n",
    "first_tuple = (1,2,3,4)\n",
    "second_tuple = (5,6,7,8)\n",
    "third_tuple = first_tuple + second_tuple\n",
    "print(f\"\\nTuple after concate is {third_tuple}\")\n"
   ]
  },
  {
   "cell_type": "code",
   "execution_count": 60,
   "id": "873f089f-265d-4769-987f-0259c9083cc6",
   "metadata": {},
   "outputs": [
    {
     "name": "stdout",
     "output_type": "stream",
     "text": [
      "Tuple after Unpacking is Roll_1 = Ram and Roll_2 = Sita and Roll_3 = Gita\n",
      "\n",
      "To achieve like in JS use * Ram ,['Sita', 'Gita']\n"
     ]
    }
   ],
   "source": [
    "# Unpacking Tuple\n",
    "simple_tuple = (\"Ram\" ,\"Sita\" , \"Gita\")\n",
    "a,b,c = simple_tuple\n",
    "print(f\"Tuple after Unpacking is Roll_1 = {a} and Roll_2 = {b} and Roll_3 = {c}\")\n",
    "# Note Unlike in Js Destructuring doesnot work here u need to destruct with same varibale as \n",
    "# using a and b only doesn't give you a = Ram and b = (\"Sita\" , \"Gita\") \n",
    "\n",
    "# Unpack using *\n",
    "x ,*z = simple_tuple\n",
    "print(f\"\\nTo achieve like in JS use * {x} ,{z}\")\n"
   ]
  },
  {
   "cell_type": "code",
   "execution_count": 61,
   "id": "1038dd39-904a-4da6-a9a0-2135c31dcd79",
   "metadata": {},
   "outputs": [
    {
     "name": "stdout",
     "output_type": "stream",
     "text": [
      "Item in index 0 is item1\n",
      "Item in index 1 is 2\n",
      "Item in index 2 is item3\n",
      "Item in index 3 is 4\n",
      "\n",
      "\n",
      "Index is 0 and items is item1\n",
      "Index is 1 and items is 2\n",
      "Index is 2 and items is item3\n",
      "Index is 3 and items is 4\n"
     ]
    }
   ],
   "source": [
    "# Loop in Tuple\n",
    "simple_tuple = (\"item1\", 2, 'item3', 4)\n",
    "i = 0\n",
    "for item in simple_tuple:\n",
    "    print(f\"Item in index {i} is {item}\")\n",
    "    i = i+1\n",
    "    \n",
    "print(\"\\n\")\n",
    "\n",
    "# Using Enumerate\n",
    "for index , items in enumerate(simple_tuple):\n",
    "    print(f\"Index is {index} and items is {items}\")"
   ]
  },
  {
   "cell_type": "code",
   "execution_count": 54,
   "id": "a2bc9874-f343-47a8-85cc-0b329896f592",
   "metadata": {},
   "outputs": [
    {
     "name": "stdout",
     "output_type": "stream",
     "text": [
      "Lower tuple are  ('apple', 'mango', 'banana', 'grapes') \n"
     ]
    }
   ],
   "source": [
    "# Exercise\n",
    "# Q.1 Write a python program to lowercase item in given Tuples using Tuple comprehension.\n",
    "sample_tuple = (\"APPLE\", \"Mango\", \"BaNaNa\", \"GRapes\")\n",
    "lower_list = []\n",
    "for item in sample_tuple:\n",
    "    lower_list.append(item.lower())\n",
    "lower_tuple = tuple(lower_list)\n",
    "print(f\"Lower tuple are  {lower_tuple} \")\n",
    "\n",
    "# Complete\n",
    "                "
   ]
  },
  {
   "cell_type": "code",
   "execution_count": null,
   "id": "07e5d942-eb49-48bc-a711-15c7d5c5bee0",
   "metadata": {},
   "outputs": [],
   "source": []
  }
 ],
 "metadata": {
  "kernelspec": {
   "display_name": "Python 3 (ipykernel)",
   "language": "python",
   "name": "python3"
  },
  "language_info": {
   "codemirror_mode": {
    "name": "ipython",
    "version": 3
   },
   "file_extension": ".py",
   "mimetype": "text/x-python",
   "name": "python",
   "nbconvert_exporter": "python",
   "pygments_lexer": "ipython3",
   "version": "3.12.2"
  }
 },
 "nbformat": 4,
 "nbformat_minor": 5
}
