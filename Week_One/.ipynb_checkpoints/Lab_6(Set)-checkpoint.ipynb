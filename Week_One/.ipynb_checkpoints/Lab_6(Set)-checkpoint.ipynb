{
 "cells": [
  {
   "cell_type": "code",
   "execution_count": 15,
   "id": "11cb1a32-252a-45dd-ad5f-e1f184f1442e",
   "metadata": {},
   "outputs": [
    {
     "name": "stdout",
     "output_type": "stream",
     "text": [
      "Simple Set is {'item_1', 'item_3', 'item_2'}\n",
      "\n",
      "Converting tuple ('items_1', 'items_1', 'items_2') into set {'items_2', 'items_1'}\n",
      "\n",
      "Converting list ['item_1', 'item_2', 'item_3', 'item_2'] into set {'item_1', 'item_3', 'item_2'}\n",
      "\n",
      "Type of set is <class 'set'>\n",
      "\n",
      "Length of the set is 3\n"
     ]
    }
   ],
   "source": [
    "# Set\n",
    "\n",
    "# Creating Set\n",
    "simple_set = {\"item_1\" , \"item_2\",\"item_3\",\"item_2\"}\n",
    "print(f\"Simple Set is {simple_set}\")\n",
    "# Hence Proved Set doesn't Support Duplicate Items\n",
    "\n",
    "# Anohter way of creating Set using tuple\n",
    "_tuple = (\"items_1\", \"items_1\",\"items_2\")\n",
    "print(f\"\\nConverting tuple {_tuple} into set {set(_tuple)}\")\n",
    "\n",
    "# Anohter way using List\n",
    "_list = [\"item_1\", \"item_2\", \"item_3\" , \"item_2\"]\n",
    "print(f\"\\nConverting list {_list} into set {set(_list)}\")\n",
    "\n",
    "# Displaying type \n",
    "print(f\"\\nType of set is {type(simple_set)}\")\n",
    "\n",
    "# Displaying Length of Set\n",
    "print(f\"\\nLength of the set is {len(simple_set)}\")"
   ]
  },
  {
   "cell_type": "code",
   "execution_count": 27,
   "id": "60b978f2-77b4-48d7-b35e-8fcf742a9253",
   "metadata": {},
   "outputs": [
    {
     "name": "stdout",
     "output_type": "stream",
     "text": [
      "Befpre adding {0, True, 'methods', 'set'}\n",
      "\n",
      "After adding item {0, True, 'set', 'methods', 'New Method Added'}\n",
      "\n",
      "After removing item {0, True, 'set', 'methods'}\n",
      "\n",
      "After random remove item {True, 'set', 'methods'}\n",
      "\n",
      "Union of the {1, 2, 3, 4, 5} and {4, 5, 6, 7, 8} is {1, 2, 3, 4, 5, 6, 7, 8}\n",
      "\n",
      "Union of the {1, 2, 3, 4, 5} and {4, 5, 6, 7, 8} using pipe is {1, 2, 3, 4, 5, 6, 7, 8}\n",
      "\n",
      "Intersection  of the {1, 2, 3, 4, 5} and {4, 5, 6, 7, 8} is {4, 5}\n",
      "\n",
      "Intersection using and  of the {1, 2, 3, 4, 5} and {4, 5, 6, 7, 8} is {4, 5}\n",
      "\n",
      "Difference of the {1, 2, 3, 4, 5} and {4, 5, 6, 7, 8} is {1, 2, 3}\n"
     ]
    }
   ],
   "source": [
    "# Set Methods \n",
    "\n",
    "# - Most common set methods/operations are:\n",
    "#   - add():  Method to add a new element to a set.\n",
    "#   - remove(): Method to remove item from a set.\n",
    "#   - pop():  Method to remove item from a set and returns removed item\n",
    "#   - union():  Method that return a set containing union of sets..\n",
    "#   - intersection():  Method that return a set that is intersection of 2 other sets.\n",
    "#   - difference():  Method that return a set containing difference between two or more \n",
    "\n",
    "\n",
    "# Add items \n",
    "set_methods = {True, 1, 'set', 'methods', 0}\n",
    "print(f\"Befpre adding {set_methods}\")\n",
    "set_methods.add(\"New Method Added\")\n",
    "print(f\"\\nAfter adding item {set_methods}\")\n",
    "\n",
    "# Remove items\n",
    "set_methods.remove(\"New Method Added\")\n",
    "print(f\"\\nAfter removing item {set_methods}\")\n",
    "\n",
    "# Remove random items from Set\n",
    "set_methods.pop()\n",
    "print(f\"\\nAfter random remove item {set_methods}\")\n",
    "\n",
    "# Union of Set\n",
    "set_1 = {1, 2, 3, 4, 5}\n",
    "set_2= {4, 5, 6, 7, 8}\n",
    "set_union = set_1.union(set_2)\n",
    "print(f\"\\nUnion of the {set_1} and {set_2} is {set_union}\")\n",
    "\n",
    "# Union using pipe\n",
    "set_using_pipe = set_1 | set_2\n",
    "print(f\"\\nUnion of the {set_1} and {set_2} using pipe is {set_using_pipe}\")\n",
    "\n",
    "# Intersection \n",
    "set_intersection = set_1.intersection(set_2)\n",
    "print(f\"\\nIntersection  of the {set_1} and {set_2} is {set_intersection}\")\n",
    "\n",
    "# Intersection using And(&) Operator\n",
    "set_using_and = set_1 & set_2\n",
    "print(f\"\\nIntersection using and  of the {set_1} and {set_2} is {set_using_and}\")\n",
    "\n",
    "# Difference of Set\n",
    "set_diff = set_1 - set_2\n",
    "print(f\"\\nDifference of the {set_1} and {set_2} is {set_diff}\")"
   ]
  },
  {
   "cell_type": "code",
   "execution_count": 28,
   "id": "b4c3ebd8-9513-49f6-9443-871c7c8dcfe6",
   "metadata": {},
   "outputs": [
    {
     "name": "stdout",
     "output_type": "stream",
     "text": [
      "Items in set are 0\n",
      "Items in set are True\n",
      "Items in set are methods\n",
      "Items in set are set\n"
     ]
    }
   ],
   "source": [
    "# Loops in Set\n",
    "set_methods = {True, 1, 'set', 'methods', 0}\n",
    "for items in set_methods:\n",
    "    print(f\"Items in set are {items}\")"
   ]
  },
  {
   "cell_type": "code",
   "execution_count": 36,
   "id": "b5c43327-085e-4652-bf72-f37865b68f25",
   "metadata": {},
   "outputs": [
    {
     "name": "stdout",
     "output_type": "stream",
     "text": [
      "Sorted Set is [0, 1, 12, 133, 144]\n",
      "Reverse sorted Set is [144, 133, 12, 1, 0]\n",
      "\n",
      "Checking if it works in list or not [12, 34, 45, 56, 78, 6768]\n",
      "Reverse sort in list [6768, 78, 56, 45, 34, 12]\n",
      "\n",
      "Checking if it works in tuple or not [12, 34, 45, 56, 78, 6768]\n",
      "Reverse sort in tuple [6768, 78, 56, 45, 34, 12]\n"
     ]
    }
   ],
   "source": [
    "# Q. Write a python program to sort Set items in ascending order.\n",
    "set_methods = {12, 1, 133, 144, 0}\n",
    "print(f\"Sorted Set is {sorted(set_methods)}\")\n",
    "\n",
    "# Reverse order\n",
    "print(f\"Reverse sorted Set is {sorted(set_methods , reverse=True)}\")\n",
    "\n",
    "# List Checking\n",
    "_list = [12,34,45,56,6768,78]\n",
    "print(f\"\\nChecking if it works in list or not {sorted(_list)}\")\n",
    "print(f\"Reverse sort in list {sorted(_list , reverse=True)}\")\n",
    "\n",
    "# Tuple Checking \n",
    "_tuple = (12,34,45,56,6768,78)\n",
    "print(f\"\\nChecking if it works in tuple or not {sorted(_tuple)}\")\n",
    "print(f\"Reverse sort in tuple {sorted(_tuple , reverse=True)}\")"
   ]
  },
  {
   "cell_type": "code",
   "execution_count": null,
   "id": "865e5035-c82b-42b1-8ebc-87e8fd97f05b",
   "metadata": {},
   "outputs": [],
   "source": []
  },
  {
   "cell_type": "code",
   "execution_count": null,
   "id": "cd05cf81-96ea-49b6-88a5-9cb32d8eed0e",
   "metadata": {},
   "outputs": [],
   "source": []
  }
 ],
 "metadata": {
  "kernelspec": {
   "display_name": "Python 3 (ipykernel)",
   "language": "python",
   "name": "python3"
  },
  "language_info": {
   "codemirror_mode": {
    "name": "ipython",
    "version": 3
   },
   "file_extension": ".py",
   "mimetype": "text/x-python",
   "name": "python",
   "nbconvert_exporter": "python",
   "pygments_lexer": "ipython3",
   "version": "3.12.2"
  }
 },
 "nbformat": 4,
 "nbformat_minor": 5
}
