{
 "cells": [
  {
   "cell_type": "code",
   "execution_count": 1,
   "id": "80839df5-f8bd-43fc-8bbb-3c1d04aeb019",
   "metadata": {},
   "outputs": [
    {
     "name": "stdout",
     "output_type": "stream",
     "text": [
      "       *   \n",
      "    *     *   \n",
      "  *          *  \n",
      "*  *  *  *  *  * \n"
     ]
    }
   ],
   "source": [
    "print(\"       *   \")\n",
    "print(\"    *     *   \")\n",
    "print(\"  *          *  \")\n",
    "print(\"*  *  *  *  *  * \")"
   ]
  },
  {
   "cell_type": "code",
   "execution_count": 4,
   "id": "9cca1c39-898b-4feb-b680-bf312752e674",
   "metadata": {},
   "outputs": [
    {
     "name": "stdin",
     "output_type": "stream",
     "text": [
      "Enter First Number :  12\n",
      "Enter Second Number :  6\n"
     ]
    },
    {
     "name": "stdout",
     "output_type": "stream",
     "text": [
      "Sum of Two Numbers :  18\n",
      "Subtract of Two Numbers :  6\n",
      "Multiply of Two Numbers :  72\n",
      "Division of Two Numbers :  2.0\n",
      "Remainder  :  0\n"
     ]
    }
   ],
   "source": [
    "firstNumber = int(input(\"Enter First Number : \" ))\n",
    "secondNumber = int(input(\"Enter Second Number : \"))\n",
    "numberSum = firstNumber + secondNumber\n",
    "numberMultiply = firstNumber * secondNumber\n",
    "numberSubtract = firstNumber - secondNumber\n",
    "numberDivision = firstNumber / secondNumber\n",
    "remainder = firstNumber % secondNumber\n",
    "print(\"Sum of Two Numbers : \" , numberSum)\n",
    "print(\"Subtract of Two Numbers : \" , numberSubtract)\n",
    "print(\"Multiply of Two Numbers : \" , numberMultiply)\n",
    "print(\"Division of Two Numbers : \" , numberDivision)\n",
    "print(\"Remainder  : \" , remainder)\n"
   ]
  },
  {
   "cell_type": "code",
   "execution_count": 6,
   "id": "5d1e90a2-4e36-402b-8dd2-0323e4a3a103",
   "metadata": {},
   "outputs": [
    {
     "name": "stdout",
     "output_type": "stream",
     "text": [
      "14.0\n",
      "8.0\n",
      "38\n"
     ]
    }
   ],
   "source": [
    "x = (5 +3 ) * 2 - 4/2\n",
    "y = 10 / (2 + 3) * (8 - 4)\n",
    "z = 3 ** 2 * 4 + 5 // 2\n",
    "print(x)\n",
    "print(y)\n",
    "print(z)"
   ]
  },
  {
   "cell_type": "code",
   "execution_count": 19,
   "id": "22f2833c-80a0-4de9-914e-8b8d2750259d",
   "metadata": {},
   "outputs": [
    {
     "name": "stdout",
     "output_type": "stream",
     "text": [
      "Variable Value :  My First Variable Assignment \n",
      "Age :  20\n",
      "Sum of X and Y :  50\n",
      "Value of A,B,C :  20 20 20\n"
     ]
    }
   ],
   "source": [
    "variable_test = \"My First Variable Assignment \"\n",
    "print(\"Variable Value : \" ,variable_test)\n",
    "age = 20\n",
    "print(\"Age : \" , age)\n",
    "\n",
    "x = 20\n",
    "y = 30\n",
    "z = x +y\n",
    "print(\"Sum of X and Y : \" , z)\n",
    "\n",
    "a = b = c = 20\n",
    "print(\"Value of A,B,C : \" , a ,b ,c)"
   ]
  }
 ],
 "metadata": {
  "kernelspec": {
   "display_name": "Python 3 (ipykernel)",
   "language": "python",
   "name": "python3"
  },
  "language_info": {
   "codemirror_mode": {
    "name": "ipython",
    "version": 3
   },
   "file_extension": ".py",
   "mimetype": "text/x-python",
   "name": "python",
   "nbconvert_exporter": "python",
   "pygments_lexer": "ipython3",
   "version": "3.12.2"
  }
 },
 "nbformat": 4,
 "nbformat_minor": 5
}
