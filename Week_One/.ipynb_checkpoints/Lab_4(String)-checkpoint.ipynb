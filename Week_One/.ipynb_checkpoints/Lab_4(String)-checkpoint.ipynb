{
 "cells": [
  {
   "cell_type": "code",
   "execution_count": 19,
   "id": "598689a1-f3a4-4646-a459-7c8beeb9fae8",
   "metadata": {},
   "outputs": [
    {
     "name": "stdout",
     "output_type": "stream",
     "text": [
      "Single Quotation String:  Sandip\n",
      "Double Quotation String:  Sandip\n"
     ]
    }
   ],
   "source": [
    "# Creating String with single and double quotation\n",
    "single_quot_str = 'Sandip'\n",
    "double_quot_str = \"Sandip\"\n",
    "\n",
    "print(\"Single Quotation String: \", single_quot_str)\n",
    "print(\"Double Quotation String: \", double_quot_str)"
   ]
  },
  {
   "cell_type": "code",
   "execution_count": 4,
   "id": "e581db56-f52b-4ee2-8316-9b5eee3dd6da",
   "metadata": {},
   "outputs": [],
   "source": [
    "\n",
    "## use assert keyword \n",
    "# to check whether single_quot_str is equal to double_quot_str\n",
    "# Hint: assert condition, <failure_statement> \n",
    "assert single_quot_str == double_quot_str , \"They are not Similar\""
   ]
  },
  {
   "cell_type": "code",
   "execution_count": 5,
   "id": "ba85c8ac-84f3-448b-bfb0-864fe69aaf95",
   "metadata": {},
   "outputs": [
    {
     "name": "stdout",
     "output_type": "stream",
     "text": [
      "Multi Line String: This is Me From Nepal \n",
      "Nepal is in Asia\n",
      "This is Me From Nepal \n",
      "Nepal is in Asia\n"
     ]
    }
   ],
   "source": [
    "# Creating multi line String using double quotation\n",
    "mult_double_str = \"\"\"This is Me From Nepal \n",
    "Nepal is in Asia\"\"\"\n",
    "print(\"Multi Line String:\" , mult_double_str)\n",
    "print(mult_double_str)"
   ]
  },
  {
   "cell_type": "code",
   "execution_count": 6,
   "id": "67516ceb-9924-47da-b71b-6d2d30426565",
   "metadata": {},
   "outputs": [
    {
     "name": "stdout",
     "output_type": "stream",
     "text": [
      "Multi Line String: From Nepal. \n",
      "It lies in Asia\n",
      "From Nepal. \n",
      "It lies in Asia\n"
     ]
    }
   ],
   "source": [
    "# Creating multi line string using single quotation\n",
    "mult_single_str = '''From Nepal. \n",
    "It lies in Asia'''\n",
    "print(\"Multi Line String:\" , mult_single_str)\n",
    "print(mult_single_str)"
   ]
  },
  {
   "cell_type": "code",
   "execution_count": 7,
   "id": "144e7578-df72-4881-898f-052de806a2fd",
   "metadata": {},
   "outputs": [
    {
     "name": "stdout",
     "output_type": "stream",
     "text": [
      "**Hi I'm learning string sreation.**\n"
     ]
    }
   ],
   "source": [
    "# Create a string named string_phrase and assign value **Hi I'm learning string creation.**`\n",
    "string_phrase = \"**Hi I'm learning string sreation.**\"\n",
    "print(string_phrase)"
   ]
  },
  {
   "cell_type": "code",
   "execution_count": 8,
   "id": "677d9654-d017-48fc-a31b-8c47dbf42644",
   "metadata": {},
   "outputs": [
    {
     "name": "stdout",
     "output_type": "stream",
     "text": [
      "Sandy is a good boy\n"
     ]
    }
   ],
   "source": [
    "# Create a concat string\n",
    "first_string = \"Sandy\"\n",
    "second_String = \" is a good boy\"\n",
    "print(first_string + second_String)"
   ]
  },
  {
   "cell_type": "code",
   "execution_count": 12,
   "id": "51d97a46-5995-46fe-b057-77324a18424c",
   "metadata": {},
   "outputs": [
    {
     "name": "stdout",
     "output_type": "stream",
     "text": [
      "First element (S) in the string S\n",
      "Third element (r) in the string r\n",
      "6th element (g) in the string g\n",
      "Last element (n) in the string n\n",
      "First item (S) using negative indexing S\n",
      "Last item (n) using negative indexing n\n",
      "6th item (g) using negative indexing g\n"
     ]
    }
   ],
   "source": [
    "# Indexing \n",
    "indexing_str = \"String Indexin\"\n",
    "\n",
    "# print first element (S) in the string\n",
    "print(\"First element (S) in the string\" ,indexing_str[0])\n",
    "\n",
    "# print third element (r) in the string\n",
    "print(\"Third element (r) in the string\" ,indexing_str[2])\n",
    "\n",
    "# print 6th element (g) in the string\n",
    "print(\"6th element (g) in the string\",indexing_str[5])\n",
    "\n",
    "# print last element (n) in the string\n",
    "length = len(indexing_str)\n",
    "print(\"Last element (n) in the string\",indexing_str[length -1])\n",
    "\n",
    "# print first item (S) using negative indexing\n",
    "length = len(indexing_str)\n",
    "print(\"First item (S) using negative indexing\",indexing_str[-length])\n",
    "\n",
    "# print last item (n) using negative indexing\n",
    "print(\"Last item (n) using negative indexing\",indexing_str[-1])\n",
    "\n",
    "# print 6th item (g) using negative indexing\n",
    "print(\"6th item (g) using negative indexing\",indexing_str[-9])"
   ]
  },
  {
   "cell_type": "code",
   "execution_count": 13,
   "id": "525255f5-20d7-4a70-a0b2-89f3f6cad8ec",
   "metadata": {},
   "outputs": [
    {
     "name": "stdout",
     "output_type": "stream",
     "text": [
      "Hel\n",
      "Hel\n",
      "Hel\n",
      "HloWrd\n",
      "Hel\n",
      "Hel\n",
      "dlroW olleH\n"
     ]
    }
   ],
   "source": [
    "# Slicing String\n",
    "\n",
    "# slice first 3 characters using positive index\n",
    "string_slice = \"Hello World\"\n",
    "print(string_slice[0:3])\n",
    "\n",
    "# slice first 3 characters using negative index\n",
    "print(string_slice[0:-8])\n",
    "print(string_slice[:-len(string_slice)+3])\n",
    "\n",
    "# get characters at even indexing\n",
    "print(string_slice[::2])\n",
    "\n",
    "# slice first 3 characters using positive index\n",
    "print(string_slice[0:3])\n",
    "\n",
    "# slice first 3 characters using negative index\n",
    "print(string_slice[-12:-8])\n",
    "\n",
    "# reverse string\n",
    "print(string_slice[::-1])\n",
    "\n",
    "test_str = \"String Indexin\"\n",
    "\n",
    "# try to replace character \"S\" with \"s\"\n",
    "# test_str[0] = \"s\"\n",
    "# print(test_str) result => false"
   ]
  },
  {
   "cell_type": "code",
   "execution_count": 14,
   "id": "f3201da7-d56f-4cd6-a220-1374705c3ef7",
   "metadata": {},
   "outputs": [
    {
     "name": "stdout",
     "output_type": "stream",
     "text": [
      "   I am practicing String MEthod!!\n",
      "   I AM PRACTICING STRING METHOD!!\n",
      "<built-in method lower of str object at 0x110f3ef10>\n",
      "['', '', '', 'I', 'am', 'practicing', 'String', 'MEthod!!']\n",
      "   I hello world String MEthod!!\n",
      "False\n",
      "I am practicing String MEthod!!\n"
     ]
    }
   ],
   "source": [
    "# String Methods \n",
    "\n",
    "# initialize sample string\n",
    "str_method = \"   I am practicing String MEthod!!\"\n",
    "print(str_method)\n",
    "\n",
    "# convert string to upper case\n",
    "# Hint: .upper()\n",
    "print(str_method.upper())\n",
    "\n",
    "# convert string to lower case\n",
    "# Hint: .lower()\n",
    "print(str_method.lower)\n",
    "\n",
    "# split string based on white space\n",
    "# Hint: .split()\n",
    "print(str_method.split(\" \"))\n",
    "\n",
    "# Replace \"am parcticing\" with \"have practiced\"\n",
    "# Hint: .replace(to_replace_str, desired_str)\n",
    "print(str_method.replace(\"am practicing\" , \"hello world\"))\n",
    "\n",
    "# Test if string end with \"!!\"\n",
    "# Hint: .endswith(\"!!\")\n",
    "str_method.endswith(\"!!\")\n",
    "\n",
    "# Test if all characters in the string are digits\n",
    "# Hint: .isdigit()\n",
    "print(str_method.isdigit())\n",
    "\n",
    "# remove starting white space\n",
    "# Hint: .strip()\n",
    "print(str_method.strip())"
   ]
  },
  {
   "cell_type": "code",
   "execution_count": 15,
   "id": "62b37b61-2bd3-4f77-81cb-fa72de24e9f2",
   "metadata": {},
   "outputs": [
    {
     "name": "stdin",
     "output_type": "stream",
     "text": [
      "Enter Your Name Sandip\n",
      "Enter Your Age 23\n"
     ]
    },
    {
     "name": "stdout",
     "output_type": "stream",
     "text": [
      "User name  :  Sandip  and User Age :  23\n",
      "Your age is 23\n",
      "User name : Sandip and User Age : 23\n",
      "Your age is 23\n"
     ]
    }
   ],
   "source": [
    "# String Formatting\n",
    "\n",
    "# get input from user\n",
    "user_name = input(\"Enter Your Name\")\n",
    "user_age = int(input(\"Enter Your Age\"))\n",
    "\n",
    "# Display message using String Concatenation (+) operators\n",
    "print(\"User name  : \" , user_name , \" and User Age : \" , user_age)\n",
    "\n",
    "# Display message using format() method\n",
    "# use Approach 1\n",
    "print(\"Your age is {}\".format(user_age))\n",
    "\n",
    "# Display message using format() method\n",
    "# use Approach 2\n",
    "print(\"User name : {} and User Age : {}\".format(user_name , user_age) )\n",
    "\n",
    "\n",
    "# Display message using f-string \n",
    "# to_dispay: input user name and age, and \n",
    "# print \"Hi <user_name>. Your age is <user_age>\"\n",
    "newAge = 20\n",
    "print(f\"Your age is {user_age}\")"
   ]
  },
  {
   "cell_type": "code",
   "execution_count": 16,
   "id": "69c6e283-e72c-4826-b014-2820b0ce4cdd",
   "metadata": {},
   "outputs": [
    {
     "name": "stdout",
     "output_type": "stream",
     "text": [
      "Hello it's me Sandy\n",
      "Hello it's me \\Sandy \n",
      "Hello \n",
      "World\n",
      "Hello\tWorld\n"
     ]
    }
   ],
   "source": [
    "# Escape Character\n",
    "\n",
    "# write your program here\n",
    "string_single = 'Hello it\\'s me Sandy'\n",
    "print(string_single)\n",
    "\n",
    "# Experiment with Backslash Escape character\n",
    "backSlash = \"Hello it\\'s me \\\\Sandy \"\n",
    "print(backSlash)\n",
    "\n",
    "# Experiment with newline escape character\n",
    "# \\n\n",
    "print(\"Hello \\nWorld\")\n",
    "\n",
    "# experiment with tab escape character\n",
    "# \\t\n",
    "print(\"Hello\\tWorld\")"
   ]
  },
  {
   "cell_type": "code",
   "execution_count": 17,
   "id": "66e2649a-ac11-40d3-8979-211a394a412c",
   "metadata": {},
   "outputs": [
    {
     "name": "stdout",
     "output_type": "stream",
     "text": [
      "34\n",
      " \n",
      " \n",
      " \n",
      "I\n",
      " \n",
      "a\n",
      "m\n",
      " \n",
      "p\n",
      "r\n",
      "a\n",
      "c\n",
      "t\n",
      "i\n",
      "c\n",
      "i\n",
      "n\n",
      "g\n",
      " \n",
      "S\n",
      "t\n",
      "r\n",
      "i\n",
      "n\n",
      "g\n",
      " \n",
      "M\n",
      "E\n",
      "t\n",
      "h\n",
      "o\n",
      "d\n",
      "!\n",
      "!\n"
     ]
    }
   ],
   "source": [
    "# String loop\n",
    "# define string\n",
    "# find string length\n",
    "# Hint: len(str)\n",
    "print(len(str_method))\n",
    "\n",
    "# loop through string\n",
    "string_length = len(str_method)\n",
    "for chars in str_method:\n",
    "    print(chars)"
   ]
  },
  {
   "cell_type": "code",
   "execution_count": 18,
   "id": "aee317af-17d2-4771-93ef-5f5bb8dc2e95",
   "metadata": {},
   "outputs": [
    {
     "name": "stdout",
     "output_type": "stream",
     "text": [
      "Length of String 12\n",
      "12\n",
      "Consonents in given String : ['H', 'l', 'l', 't', 'h', 's', 's', 'm', 'S', 'n', 'd', 'y']\n",
      "Vowels in given String : ['e', 'o', 'i', 'i', 'e', 'a']\n",
      "Held\n",
      "wollo Herld\n"
     ]
    },
    {
     "name": "stdin",
     "output_type": "stream",
     "text": [
      "Enter any String Value Sandip\n",
      "Enter index you want to delete from string : 4\n"
     ]
    },
    {
     "name": "stdout",
     "output_type": "stream",
     "text": [
      "String after removing index : Sandp\n"
     ]
    }
   ],
   "source": [
    "# String Exercise\n",
    "# Q.1 Use the len method to print the length of string.\n",
    "\n",
    "# Q.2 Print length of String without using len function.\n",
    "\n",
    "# Q.3 Write python program to print vowel and consonants on the given string.\n",
    "\n",
    "# Q.4 Write a python program to extract first and last 2 character into new string.\n",
    "\n",
    "# Q.5 Write a python program to get a single string from two given strings, separated by a space and swap the first two characters of each string.\n",
    "\n",
    "# Q.6 Write a python program to remove the nth index character from a nonempty string. Ask user to input non-empty string, and index\n",
    "\n",
    "newString = \"Hello Sandip\"\n",
    "\n",
    "# Print Length\n",
    "print(\"Length of String\" , len(newString))\n",
    "\n",
    "# Length without using len\n",
    "i = 0\n",
    "for chars in newString:\n",
    "    i = i + 1\n",
    "print(i)\n",
    "\n",
    "# Vowels and Consonents\n",
    "checkString = \"Hello this is me Sandy\"\n",
    "vowels = ['a','e','i','o','u']\n",
    "vowelsFromString = []\n",
    "consonents = []\n",
    "for chars in checkString:\n",
    "    if chars.lower() in vowels:\n",
    "        vowelsFromString.append(chars)\n",
    "    elif chars.isalpha():\n",
    "        consonents.append(chars)\n",
    "print(f\"Consonents in given String : {consonents}\")\n",
    "print(\"Vowels in given String : {}\".format(vowelsFromString))\n",
    "\n",
    "\n",
    "# First two and Last two join \n",
    "inputString = \"Hello World\"\n",
    "firstNewString = inputString[0:2]\n",
    "lastNewString = inputString[-2:]\n",
    "print(firstNewString+lastNewString)\n",
    "\n",
    "# Swap first two and last two word and concat with space\n",
    "string_first  = \"Hello\"\n",
    "string_second = \"world\"\n",
    "swap_string_first = string_second[:2] + string_first[2:]\n",
    "swap_string_second = string_first[:2] + string_second[2:]\n",
    "result = swap_string_first + \" \" + swap_string_second\n",
    "print(result)\n",
    "\n",
    "# Remove nth index from string asking string and index from user\n",
    "input_string = input(\"Enter any String Value\")\n",
    "while not input_string:\n",
    "    print(\"Please Enter a String\")\n",
    "    input_string = input(\"Enter any String Value\")\n",
    "index = int(input(\"Enter index you want to delete from string :\"))\n",
    "\n",
    "if 0 <= index < len(input_string):\n",
    "    new_string = input_string[:index] + input_string[index+1:]\n",
    "    print(f\"String after removing index : {new_string}\")\n",
    "else:\n",
    "    print(\"Invalid Index please enter from 0 to {}\".format(len(input_string) -1))"
   ]
  },
  {
   "cell_type": "code",
   "execution_count": null,
   "id": "08197276-2a8c-4fee-a6e6-91f5ea3b8ce3",
   "metadata": {},
   "outputs": [],
   "source": []
  }
 ],
 "metadata": {
  "kernelspec": {
   "display_name": "Python 3 (ipykernel)",
   "language": "python",
   "name": "python3"
  },
  "language_info": {
   "codemirror_mode": {
    "name": "ipython",
    "version": 3
   },
   "file_extension": ".py",
   "mimetype": "text/x-python",
   "name": "python",
   "nbconvert_exporter": "python",
   "pygments_lexer": "ipython3",
   "version": "3.12.2"
  }
 },
 "nbformat": 4,
 "nbformat_minor": 5
}
