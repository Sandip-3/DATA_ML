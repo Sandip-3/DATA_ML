{
 "cells": [
  {
   "cell_type": "code",
   "execution_count": 10,
   "id": "26af04d3-329c-47c8-aace-37507880d670",
   "metadata": {},
   "outputs": [
    {
     "name": "stdout",
     "output_type": "stream",
     "text": [
      "<class 'list'>\n",
      "4\n",
      "['Hello', ['this', 'is'], 'Nested', ['lis']]\n",
      "<class 'list'>\n",
      "4\n",
      "['Hello', 'World']\n"
     ]
    }
   ],
   "source": [
    "# List \n",
    "\n",
    "# Create simple list with mixed data types\n",
    "my_list = [\"Sandip\" , 23 , \"Syangja\" , \"Khahare\"]\n",
    "\n",
    "# display type \n",
    "print(type(my_list))\n",
    "\n",
    "# display length of list\n",
    "print(len(my_list))\n",
    "\n",
    "# create nested list\n",
    "nested_list = [\"Hello\" , [\"this\" , \"is\"], \"Nested\" ,[\"lis\"]]\n",
    "print(nested_list)\n",
    "\n",
    "# display type of nested list\n",
    "print(type(nested_list))\n",
    "\n",
    "# display length of nested list\n",
    "print(len(nested_list))\n",
    "\n",
    "# Split string and store in list\n",
    "new_string = \"Hello World\"\n",
    "list_item = new_string.split(\" \")\n",
    "print(list_item)"
   ]
  },
  {
   "cell_type": "code",
   "execution_count": 2,
   "id": "3afa0661-6bcc-4210-9f8d-fb50d1739f6e",
   "metadata": {},
   "outputs": [
    {
     "name": "stdout",
     "output_type": "stream",
     "text": [
      "1\n",
      "3\n",
      "5\n",
      "[[1, 2, 3, 4], ['a', 'b', 'c'], [True, False], [1.0, 2.0, 3.0], 'Hello', 'World']\n",
      "c\n",
      "False\n"
     ]
    }
   ],
   "source": [
    "# Indexing List\n",
    "new_list = [1,2,3,4,5]\n",
    "\n",
    "# print 1st item using positive index\n",
    "print(new_list[0])\n",
    "\n",
    "# print 3rd item using positive index\n",
    "print(new_list[2])\n",
    "\n",
    "# print last item using positive index\n",
    "length_list = len(new_list)\n",
    "print(new_list[length_list - 1])\n",
    "\n",
    "# initialize nested list of length 5\n",
    "nested_new_list = [[1,2,3,4],['a','b','c'],[True, False],[1.0,2.0,3.0],\"Hello\",\"World\"]\n",
    "print(nested_new_list)\n",
    "\n",
    "# practice indexing\n",
    "print(nested_new_list[1][2])\n",
    "print(nested_new_list[2][1])"
   ]
  },
  {
   "cell_type": "code",
   "execution_count": 3,
   "id": "e19878e9-36b4-4f5b-8b23-72a4687ccd6d",
   "metadata": {},
   "outputs": [
    {
     "name": "stdout",
     "output_type": "stream",
     "text": [
      "a\n",
      "c\n",
      "e\n"
     ]
    }
   ],
   "source": [
    "# Negative Indexing\n",
    "\n",
    "# Reinitialize simple list of length 5\n",
    "# Print 1st item using negative index\n",
    "list_ = ['a','b','c','d','e']\n",
    "print(list_[-len(list_)])\n",
    "\n",
    "# Print 3rd item using negative index\n",
    "print(list_[-3])\n",
    "\n",
    "# Print last item using negative index\n",
    "print(list_[-1])"
   ]
  },
  {
   "cell_type": "code",
   "execution_count": 4,
   "id": "d8e3aea0-8cfe-4eb7-b57d-c829a11762b4",
   "metadata": {},
   "outputs": [
    {
     "name": "stdout",
     "output_type": "stream",
     "text": [
      "['hello', 'world', 'welcome']\n",
      "['welcome', 'universe', 'nepla']\n",
      "['hello', 'welcome', 'nepla']\n",
      "['hello', 'world', 'welcome']\n",
      "['welcome', 'universe', 'nepla']\n",
      "['nepla', 'universe', 'welcome', 'world', 'hello']\n"
     ]
    }
   ],
   "source": [
    "# Slicing list\n",
    "list_slice = [\"hello\" , \"world\" , \"welcome\" , \"universe\",\"nepla\"]\n",
    "\n",
    "# Slice first 3 items using positive index\n",
    "print(list_slice[0:3])\n",
    "\n",
    "# Slice last 3 items using negative index\n",
    "print(list_slice[-3:])\n",
    "\n",
    "# Get list item at even index\n",
    "print(list_slice[::2])\n",
    "\n",
    "# Slice first 3 list items using positive index\n",
    "print(list_slice[0:3])\n",
    "\n",
    "# Slice last 3 list items using negative index\n",
    "print(list_slice[-3:])\n",
    "\n",
    "# Reverse list\n",
    "print(list_slice[::-1])"
   ]
  },
  {
   "cell_type": "code",
   "execution_count": 5,
   "id": "5c312825-c46a-4ca2-817d-d4dc543ef12c",
   "metadata": {},
   "outputs": [
    {
     "name": "stdout",
     "output_type": "stream",
     "text": [
      "['hi', 'i', 'am', 'mutable']\n",
      "['hello', 'i', 'am', 'mutable']\n"
     ]
    }
   ],
   "source": [
    "# Mutable List\n",
    "\n",
    "# Verify lists are mutable\n",
    "mutable_list = ['hi', 'i', 'am', 'mutable']\n",
    "print(mutable_list)\n",
    "\n",
    "# Change first item 'hi' to 'hello'\n",
    "mutable_list[0] = \"hello\"\n",
    "print(mutable_list)"
   ]
  },
  {
   "cell_type": "code",
   "execution_count": 6,
   "id": "9a70bada-b603-4b63-a619-f6e81918feab",
   "metadata": {},
   "outputs": [
    {
     "name": "stdout",
     "output_type": "stream",
     "text": [
      "[1, 2, 3, 4, 5, 6, 7, 'Sandip']\n",
      "[1, 'Poudel', 2, 3, 4, 5, 6, 7, 'Sandip']\n",
      "[1, 2, 3, 4, 5, 6]\n",
      "[1, 3, 4, 5, 6]\n",
      "[1, 4, 5, 6]\n",
      "[1, 4, 5]\n",
      "[5, 4, 1]\n",
      "[1, 4, 5]\n",
      "[5, 4, 1]\n"
     ]
    }
   ],
   "source": [
    "# List methods \n",
    "\n",
    "list_first = [1,2,3,4,5,6,7]\n",
    "\n",
    "# Add new item to the end of a list\n",
    "# Hint: list.append(<item>)\n",
    "list_first.append(\"Sandip\")\n",
    "print(list_first)\n",
    "\n",
    "# Add new item at index 1 using insert()\n",
    "# Hint: list1.insert(<index>, <item_to_insert>)\n",
    "list_first.insert(1, \"Poudel\")\n",
    "print(list_first)\n",
    "\n",
    "# Given two list i.e. list1 and list2\n",
    "# Extend list1 with item from list 2\n",
    "# Hint: list1.extend(list2)\n",
    "list_one = [1,2,3]\n",
    "list_two = [4,5,6]\n",
    "list_one.extend(list_two)\n",
    "print(list_one)\n",
    "\n",
    "# Remove specific item from list\n",
    "# Hint: list.remove(<item_name>)\n",
    "list_one.remove(2)\n",
    "print(list_one)\n",
    "\n",
    "# Remove item at index 1 of list\n",
    "# Hint: list1.pop(<index>)\n",
    "list_one.pop(1)\n",
    "print(list_one)\n",
    "\n",
    "# Remove last item from list\n",
    "# Hint: list1.pop()\n",
    "list_one.pop()\n",
    "print(list_one)\n",
    "\n",
    "# Reverse list\n",
    "# Hint: list.reverse()\n",
    "list_one.reverse()\n",
    "print(list_one)\n",
    "\n",
    "# Sort list in ascending order\n",
    "# hint: list.sort()\n",
    "list_one.sort()\n",
    "print(list_one)\n",
    "\n",
    "# Sort list in descending order\n",
    "# hint: list.sort(reverse=True)\n",
    "list_one.sort(reverse= True)\n",
    "print(list_one)"
   ]
  },
  {
   "cell_type": "code",
   "execution_count": 7,
   "id": "58c15793-c098-4bd0-9295-c1945aa73fa4",
   "metadata": {},
   "outputs": [
    {
     "name": "stdout",
     "output_type": "stream",
     "text": [
      "Hello World\n",
      "1\n",
      "2\n",
      "3\n",
      "4\n",
      "5\n",
      "6\n",
      "7\n",
      "8\n",
      "9\n",
      "Index: 0 Value: 1\n",
      "Index: 1 Value: 2\n",
      "Index: 2 Value: 3\n",
      "Index: 3 Value: 4\n",
      "Index: 4 Value: 5\n",
      "Index: 5 Value: 6\n",
      "Index: 6 Value: 7\n",
      "Index: 7 Value: 8\n",
      "Index: 8 Value: 9\n"
     ]
    }
   ],
   "source": [
    "# Join List\n",
    "\n",
    "# Join list by space to form new string\n",
    "# Hint: \" \".join(<list>)\n",
    "new_list = [\"Hello\" , \"World\"]\n",
    "new_String = \" \".join(new_list)\n",
    "print(new_string)\n",
    "\n",
    "# Loop List\n",
    "new_list = [1,2,3,4,5,6,7,8,9]\n",
    "for list in new_list:\n",
    "    print(list)\n",
    "\n",
    "# Using Enemurate\n",
    "for index, value in enumerate(new_list):\n",
    "    print(\"Index:\", index, \"Value:\", value)"
   ]
  },
  {
   "cell_type": "code",
   "execution_count": 8,
   "id": "ebc438be-580a-405d-8cf0-2886b351cdc7",
   "metadata": {},
   "outputs": [
    {
     "name": "stdout",
     "output_type": "stream",
     "text": [
      "['apple', 'banana', 'mango', 'grapes']\n",
      "['Mango', 'Apple', 'Banana']\n"
     ]
    }
   ],
   "source": [
    "# List Comparision\n",
    "\n",
    "# Q.1 Write a python program to lowercase item in given list using list comprehension.\n",
    "new_list = []\n",
    "input_list = [\"Apple\" , \"Banana\" , \"Mango\" , \"GRapes\"]\n",
    "for list in input_list:\n",
    "    lowercase_string = list.lower()\n",
    "    new_list.append(lowercase_string)\n",
    "print(new_list)\n",
    "\n",
    "\n",
    "# Q.2 Given list of fruits i.e. fruit_list = ['apple', 'mango', 'banana', 'grapes', 'coffee'], \n",
    "#     Create new list named fruit_list removing item which is not fruit. Example = coffee.\n",
    "_list = [\"Mango\" , \"Apple\" , \"Banana\" , \"Coffee\" , \"Garlic\" , \"Haptic\"]\n",
    "fruit_list = [\"Mango\" , \"Apple\" , \"Banana\"]\n",
    "new_fruit_list = []\n",
    "for fruit in _list:\n",
    "    if fruit in fruit_list:\n",
    "        new_fruit_list.append(fruit)\n",
    "print(new_fruit_list)"
   ]
  },
  {
   "cell_type": "code",
   "execution_count": 9,
   "id": "c6d30981-7d93-4579-8051-7a3a762aa779",
   "metadata": {},
   "outputs": [
    {
     "name": "stdout",
     "output_type": "stream",
     "text": [
      "Item Name : banana and length is : 6\n",
      "Sum of numbers in list : 15\n",
      " The highest number in list is : 100\n",
      "Lowest number in list is : -1\n",
      "Lowest number using sort method : -1\n",
      "The number is : 4\n",
      "The list is empty\n",
      "The new list with added string is : ['emp1', 'emp2', 'emp3', 'emp4']\n"
     ]
    }
   ],
   "source": [
    "# List Exercise\n",
    "\n",
    "# Q.1 Write a python program that initializes non empty list\n",
    "#     of words with length = 5. Display longest word with its length.\n",
    "fruit_list = ['mango', 'banana', 'kiwi', 'apple', 'grapes']\n",
    "highest_length = 0\n",
    "list_item = \"\"\n",
    "for _list in fruit_list:\n",
    "    _length = len(_list)\n",
    "    if highest_length < _length:\n",
    "        highest_length = _length\n",
    "        list_item = _list\n",
    "print(f\"Item Name : {list_item} and length is : {highest_length}\")\n",
    "\n",
    "# Q.2 Write a python program to get the sum of number from a list.\n",
    "number_list = [1, 2, 3, 4, 5]\n",
    "sum = 0 \n",
    "for number in number_list:\n",
    "    sum = sum + number\n",
    "print(f\"Sum of numbers in list : {sum}\")\n",
    "\n",
    "# Q.3 Write a python program to get the largest number from a list.\n",
    "number_list =  [10, 20, 30, 100, 40]\n",
    "highest_number = 0\n",
    "for number in number_list:\n",
    "    if highest_number < number:\n",
    "        highest_number = number\n",
    "print(f\" The highest number in list is : {highest_number}\")\n",
    "\n",
    "\n",
    "# Q.4 Write a python program to get the smallest number from a list.\n",
    "number_list = [-1, 0, 1, 2]\n",
    "samplenumber = 999999\n",
    "for number in number_list:\n",
    "    if samplenumber > number:\n",
    "        samplenumber = number\n",
    "print(f\"Lowest number in list is : {samplenumber}\")\n",
    "\n",
    "number_list.sort()\n",
    "print(f\"Lowest number using sort method : {number_list[0]}\")\n",
    "\n",
    "\n",
    "# Q.5 Write a Python program to count the number of strings where the string\n",
    "#     length is 2 or more and the first and lastcharacter are same from a given\n",
    "#     list of strings.\n",
    "sample_list = ['abc', 'xyz', 'abbbca', '12221']\n",
    "item_count = 0\n",
    "\n",
    "for items in sample_list:\n",
    "    if len(items) > 2:\n",
    "        first_index = items[0]\n",
    "        last_index = items[len(items)-1]\n",
    "        if first_index == last_index:\n",
    "           item_count = len(items) -2\n",
    "           break \n",
    "print(f\"The number is : {item_count}\")\n",
    "\n",
    "# Q.6 Write a python program to check a list is empty or not.\n",
    "empty_list = []\n",
    "if not empty_list:\n",
    "    print(\"The list is empty\")\n",
    "else:\n",
    "    print(\"The list is not empty\")\n",
    "\n",
    "# Q.7 Write a python program to insert a given string at the beginning of all items\n",
    "#     in a list.\n",
    "sample_list = [1, 2, 3, 4]\n",
    "string_to_insert = \"emp\"\n",
    "new_list = []\n",
    "for list in sample_list:\n",
    "    _list =  str(string_to_insert) + str(list)\n",
    "    new_list.append(_list)\n",
    "print(f\"The new list with added string is : {new_list}\")"
   ]
  },
  {
   "cell_type": "code",
   "execution_count": null,
   "id": "7f5929a1-d762-4eac-b7f4-2fdfd186e620",
   "metadata": {},
   "outputs": [],
   "source": []
  }
 ],
 "metadata": {
  "kernelspec": {
   "display_name": "Python 3 (ipykernel)",
   "language": "python",
   "name": "python3"
  },
  "language_info": {
   "codemirror_mode": {
    "name": "ipython",
    "version": 3
   },
   "file_extension": ".py",
   "mimetype": "text/x-python",
   "name": "python",
   "nbconvert_exporter": "python",
   "pygments_lexer": "ipython3",
   "version": "3.12.2"
  }
 },
 "nbformat": 4,
 "nbformat_minor": 5
}
