# List 

# Create simple list with mixed data types
my_list = ["Sandip" , 23 , "Syangja" , "Khahare"]

# display type 
print(type(my_list))

# display length of list
print(len(my_list))

# create nested list
nested_list = ["Hello" , ["this" , "is"], "Nested" ,["lis"]]
print(nested_list)

# display type of nested list
print(type(nested_list))

# display length of nested list
print(len(nested_list))

# Split string and store in list
new_string = "Hello World"
list_item = new_string.split(" ")
print(list_item)

# Indexing List
new_list = [1,2,3,4,5]

# print 1st item using positive index
print(new_list[0])

# print 3rd item using positive index
print(new_list[2])

# print last item using positive index
length_list = len(new_list)
print(new_list[length_list - 1])

# initialize nested list of length 5
nested_new_list = [[1,2,3,4],['a','b','c'],[True, False],[1.0,2.0,3.0],"Hello","World"]
print(nested_new_list)

# practice indexing
print(nested_new_list[1][2])
print(nested_new_list[2][1])

# Negative Indexing

# Reinitialize simple list of length 5

# Print 1st item using negative index
list_ = ['a','b','c','d','e']
print(list_[-len(list_)])

# Print 3rd item using negative index
print(list_[-3])

# Print last item using negative index
print(list_[-1])

# Slicing list
list_slice = ["hello" , "world" , "welcome" , "universe","nepla"]

# Slice first 3 items using positive index
print(list_slice[0:3])

# Slice last 3 items using negative index
print(list_slice[-3:])

# Get list item at even index
print(list_slice[::2])

# Slice first 3 list items using positive index
print(list_slice[0:3])

# Slice last 3 list items using negative index
print(list_slice[-3:])

# Reverse list
print(list_slice[::-1])

# Mutable List

# Verify lists are mutable
mutable_list = ['hi', 'i', 'am', 'mutable']
print(mutable_list)

# Change first item 'hi' to 'hello'
mutable_list[0] = "hello"
print(mutable_list)

# List methods 
list_first = [1,2,3,4,5,6,7]

# Add new item to the end of a list
# Hint: list.append(<item>)
list_first.append("Sandip")
print(list_first)

# Add new item at index 1 using insert()
# Hint: list1.insert(<index>, <item_to_insert>)
list_first.insert(1, "Poudel")
print(list_first)

# Given two list i.e. list1 and list2
# Extend list1 with item from list 2
# Hint: list1.extend(list2)
list_one = [1,2,3]
list_two = [4,5,6]
list_one.extend(list2)
print(list_one)



# Remove specific item from list
# Hint: list.remove(<item_name>)
list_one.remove(2)
print(list_one)

# Remove item at index 1 of list
# Hint: list1.pop(<index>)
list_one.pop(1)
print(list_one)

# Remove last item from list
# Hint: list1.pop()
list_one.pop()
print(list_one)

# Reverse list
# Hint: list.reverse()
list_one.reverse()
print(list_one)

# Sort list in ascending order
# hint: list.sort()
list_one.sort()
print(list_one)

# Sort list in descending order
# hint: list.sort(reverse=True)
list_one.sort(reverse= True)
print(list_one)

# Join List

# Join list by space to form new string
# Hint: " ".join(<list>)
new_list = ["Hello" , "World"]
new_String = " ".join(new_list)
print(new_string)

# Loop List
new_list = [1,2,3,4,5,6,7,8,9]
for list in new_list:
    print(list)

# Using Enemurate
for index, value in enumerate(new_list):
    print("Index:", index, "Value:", value)

# List Comparision







