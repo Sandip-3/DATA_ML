{
 "cells": [
  {
   "cell_type": "code",
   "execution_count": 1,
   "id": "8f910315-2c70-411f-9dd9-fa2395b13dca",
   "metadata": {},
   "outputs": [
    {
     "name": "stdout",
     "output_type": "stream",
     "text": [
      "The person Name : Ram and Age is : 23\n",
      "None\n"
     ]
    }
   ],
   "source": [
    "# Protected Arguments\n",
    "class Person:\n",
    "    def __init__(self , name , age):\n",
    "        self._name = name\n",
    "        self._age = age\n",
    "\n",
    "    def display(self):\n",
    "        print(f\"The person Name : {self._name} and Age is : {self._age}\")\n",
    "\n",
    "class Ram(Person):\n",
    "    def __init__(self, name, age):\n",
    "        super().__init__(name, age)\n",
    "\n",
    "ram = Ram(name = \"Ram\" , age=23)\n",
    "print(ram.display())"
   ]
  },
  {
   "cell_type": "code",
   "execution_count": 17,
   "id": "dbba4acf-220a-4c6e-a4c6-1ece8b6f7b16",
   "metadata": {},
   "outputs": [
    {
     "name": "stdout",
     "output_type": "stream",
     "text": [
      "Sandy\n"
     ]
    }
   ],
   "source": [
    "# Private\n",
    "\n",
    "class Person:\n",
    "    def __init__(self , name , age):\n",
    "        self.__name = name\n",
    "        self.__age = age\n",
    "\n",
    "    def display(self):\n",
    "        print(f\"The person Name : {self.__name} and Age is : {self.__age}\")\n",
    "\n",
    "person = Person(\"Sandy\",23)\n",
    "dir(person)\n",
    "print(person._Person__name)"
   ]
  },
  {
   "cell_type": "code",
   "execution_count": 18,
   "id": "47050a9b-d31f-450b-be1c-123d581780ee",
   "metadata": {},
   "outputs": [
    {
     "name": "stdout",
     "output_type": "stream",
     "text": [
      "Connection Success \n",
      "Security Sandy\n"
     ]
    }
   ],
   "source": [
    "# Abstraction\n",
    "class BankingApp:\n",
    "\n",
    "    def database(self):\n",
    "        print(\"Connection Success \")\n",
    "\n",
    "    def security(self, name):\n",
    "        self.name = name\n",
    "        print(f\"Security {name}\")\n",
    "\n",
    "class MobileApp(BankingApp):\n",
    "\n",
    "    def login_app(self):\n",
    "        print(\"Login Bank App\")\n",
    "\n",
    "\n",
    "bankApp = BankingApp()\n",
    "bankApp.database()\n",
    "mobileApp = MobileApp()\n",
    "mobileApp.security(\"Sandy\")"
   ]
  },
  {
   "cell_type": "code",
   "execution_count": null,
   "id": "ffb5a1bd-34e7-44ac-bce4-848c1c4357e0",
   "metadata": {},
   "outputs": [],
   "source": [
    "form abc import ABC , abstractmethod\n",
    "class BankingApp:\n",
    "\n",
    "    def database(self):\n",
    "        print(\"Connection Success \")\n",
    "\n",
    "    @abstractmethod\n",
    "    def security(self, name):\n",
    "        pass\n",
    "\n",
    "class MobileApp(BankingApp):\n",
    "\n",
    "    def login_app(self):\n",
    "        print(\"Login Bank App\")\n",
    "\n",
    "    def secur\n",
    "\n",
    "\n",
    "bankApp = BankingApp()\n",
    "bankApp.database()\n",
    "mobileApp = MobileApp()\n",
    "mobileApp.security(\"Sandy\")"
   ]
  }
 ],
 "metadata": {
  "kernelspec": {
   "display_name": "Python 3 (ipykernel)",
   "language": "python",
   "name": "python3"
  },
  "language_info": {
   "codemirror_mode": {
    "name": "ipython",
    "version": 3
   },
   "file_extension": ".py",
   "mimetype": "text/x-python",
   "name": "python",
   "nbconvert_exporter": "python",
   "pygments_lexer": "ipython3",
   "version": "3.12.2"
  }
 },
 "nbformat": 4,
 "nbformat_minor": 5
}
