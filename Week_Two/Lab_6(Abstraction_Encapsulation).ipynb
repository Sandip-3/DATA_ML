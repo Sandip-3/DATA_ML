{
 "cells": [
  {
   "cell_type": "code",
   "execution_count": 1,
   "id": "8f910315-2c70-411f-9dd9-fa2395b13dca",
   "metadata": {},
   "outputs": [
    {
     "name": "stdout",
     "output_type": "stream",
     "text": [
      "The person Name : Ram and Age is : 23\n",
      "None\n"
     ]
    }
   ],
   "source": [
    "# Protected Arguments\n",
    "class Person:\n",
    "    def __init__(self , name , age):\n",
    "        self._name = name\n",
    "        self._age = age\n",
    "\n",
    "    def display(self):\n",
    "        print(f\"The person Name : {self._name} and Age is : {self._age}\")\n",
    "\n",
    "class Ram(Person):\n",
    "    def __init__(self, name, age):\n",
    "        super().__init__(name, age)\n",
    "\n",
    "ram = Ram(name = \"Ram\" , age=23)\n",
    "print(ram.display())"
   ]
  },
  {
   "cell_type": "code",
   "execution_count": 13,
   "id": "dbba4acf-220a-4c6e-a4c6-1ece8b6f7b16",
   "metadata": {},
   "outputs": [
    {
     "ename": "NameError",
     "evalue": "name '_Person__name' is not defined",
     "output_type": "error",
     "traceback": [
      "\u001b[0;31m---------------------------------------------------------------------------\u001b[0m",
      "\u001b[0;31mNameError\u001b[0m                                 Traceback (most recent call last)",
      "Cell \u001b[0;32mIn[13], line 13\u001b[0m\n\u001b[1;32m     11\u001b[0m person \u001b[38;5;241m=\u001b[39m Person(\u001b[38;5;124m\"\u001b[39m\u001b[38;5;124mSany\u001b[39m\u001b[38;5;124m\"\u001b[39m,\u001b[38;5;241m23\u001b[39m)\n\u001b[1;32m     12\u001b[0m \u001b[38;5;28mdir\u001b[39m(person)\n\u001b[0;32m---> 13\u001b[0m \u001b[38;5;28mprint\u001b[39m(\u001b[43m_Person__name\u001b[49m())\n",
      "\u001b[0;31mNameError\u001b[0m: name '_Person__name' is not defined"
     ]
    }
   ],
   "source": [
    "# Private\n",
    "\n",
    "class Person:\n",
    "    def __init__(self , name , age):\n",
    "        self.__name = name\n",
    "        self.__age = age\n",
    "\n",
    "    def display(self):\n",
    "        print(f\"The person Name : {self.__name} and Age is : {self.__age}\")\n",
    "\n",
    "person = Person(\"Sany\",23)\n",
    "dir(person)\n",
    "print(_Person__name())"
   ]
  },
  {
   "cell_type": "code",
   "execution_count": null,
   "id": "47050a9b-d31f-450b-be1c-123d581780ee",
   "metadata": {},
   "outputs": [],
   "source": []
  }
 ],
 "metadata": {
  "kernelspec": {
   "display_name": "Python 3 (ipykernel)",
   "language": "python",
   "name": "python3"
  },
  "language_info": {
   "codemirror_mode": {
    "name": "ipython",
    "version": 3
   },
   "file_extension": ".py",
   "mimetype": "text/x-python",
   "name": "python",
   "nbconvert_exporter": "python",
   "pygments_lexer": "ipython3",
   "version": "3.12.2"
  }
 },
 "nbformat": 4,
 "nbformat_minor": 5
}
