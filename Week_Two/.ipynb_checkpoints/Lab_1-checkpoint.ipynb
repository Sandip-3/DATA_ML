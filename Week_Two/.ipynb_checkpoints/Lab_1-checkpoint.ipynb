{
 "cells": [
  {
   "cell_type": "code",
   "execution_count": 7,
   "id": "be68b753-374b-4e73-adca-64d0d1cc437d",
   "metadata": {},
   "outputs": [
    {
     "name": "stdout",
     "output_type": "stream",
     "text": [
      "Checking it's type : <class 'dict'>\n",
      "Creating empty set using set function and it's type is : <class 'set'>\n",
      "\n",
      " Simple Dictionary is {'Hello': 'World', 'Name': 'Sandy'}\n",
      "\n",
      " Nested  Dictionary is {'Hello': 'World', 'FullName': {'Name': 'Sandy'}}\n"
     ]
    }
   ],
   "source": [
    "# Dictionary \n",
    "\n",
    "# Creating Empty Dictionary\n",
    "empt_dict = {}\n",
    "print(f\"Checking it's type : {type(empt_dict)}\")\n",
    "\n",
    "# Confusion about set and dictionary and prefered way to create empty set\n",
    "empt_set = set()\n",
    "print(f\"Creating empty set using set function and it's type is : {type(empt_set)}\")\n",
    "\n",
    "# Creating simple dictionary\n",
    "simple_dict = {\"Hello\" : \"World\" , \"Name\" : \"Sandy\"}\n",
    "print(f\"\\n Simple Dictionary is {simple_dict}\")\n",
    "\n",
    "# Nested Dictionary\n",
    "nested_dict = {\"Hello\" : \"World\" , \"FullName\" : {\"Name\" : \"Sandy\"}}\n",
    "print(f\"\\n Nested  Dictionary is {nested_dict}\")\n"
   ]
  },
  {
   "cell_type": "code",
   "execution_count": 17,
   "id": "760f0633-f47f-49c3-887d-f10c3fb58c3f",
   "metadata": {},
   "outputs": [
    {
     "name": "stdout",
     "output_type": "stream",
     "text": [
      "The Key is mango and values are 100\n",
      "The Key is banana and values are 10\n",
      "The Key is orange and values are 200\n",
      "The Key is kiwi and values are 20\n"
     ]
    }
   ],
   "source": [
    "# Indexing Dictionary\n",
    "fruits_count = {'mango': 100, 'banana': 10, 'orange': 200, 'kiwi': 20}\n",
    "for fruit in fruits_count:\n",
    "    print(f\"The Key is {fruit} and values are {fruits_count[fruit]}\")"
   ]
  },
  {
   "cell_type": "code",
   "execution_count": 20,
   "id": "bed93ed2-0190-4ce5-b25e-2263af3ee8b6",
   "metadata": {},
   "outputs": [
    {
     "name": "stdout",
     "output_type": "stream",
     "text": [
      "The Key is fruits and its value is {'mango': 100, 'banana': 10, 'orange': 200, 'kiwi': 20}\n",
      "    Sub Key is mango and its value is 100\n",
      "    Sub Key is banana and its value is 10\n",
      "    Sub Key is orange and its value is 200\n",
      "    Sub Key is kiwi and its value is 20\n",
      "The Key is drinks and its value is {'coke': 20, 'redbull': 30, 'lassi': 10}\n",
      "    Sub Key is coke and its value is 20\n",
      "    Sub Key is redbull and its value is 30\n",
      "    Sub Key is lassi and its value is 10\n"
     ]
    }
   ],
   "source": [
    "# Nested Dictionary Indexing\n",
    "food_counts = {\n",
    "  'fruits': {\"mango\": 100, \"banana\": 10, \"orange\": 200, \"kiwi\": 20},\n",
    "  'drinks': {\"coke\": 20, \"redbull\": 30, \"lassi\": 10}\n",
    "}\n",
    "for food_category, foods in food_counts.items():\n",
    "    print(f\"The Key is {food_category} and its value is {foods}\")\n",
    "    for food, count in foods.items():\n",
    "        print(f\"    Sub Key is {food} and its value is {count}\")"
   ]
  },
  {
   "cell_type": "code",
   "execution_count": 21,
   "id": "9067828f-eac8-4d0d-a966-0fc6f48201e2",
   "metadata": {},
   "outputs": [
    {
     "name": "stdout",
     "output_type": "stream",
     "text": [
      "New Dictionary after mutable is : {'mango': 200, 'banana': 10, 'orange': 200, 'kiwi': 20}\n"
     ]
    }
   ],
   "source": [
    "# Dictionary are Mutable\n",
    "\n",
    "# Q. Create a simple Dictionary. Verify Dictionary is mutable by changing values. Adding new values.\n",
    "simple_dict = {\"mango\": 100, \"banana\": 10, \"orange\": 200, \"kiwi\": 20}\n",
    "simple_dict['mango'] = 200\n",
    "print(f\"New Dictionary after mutable is : {simple_dict}\")"
   ]
  },
  {
   "cell_type": "code",
   "execution_count": 35,
   "id": "1e1db3b1-8d2d-4e61-98a8-5086cfb0b996",
   "metadata": {},
   "outputs": [
    {
     "name": "stdout",
     "output_type": "stream",
     "text": [
      "Value at specific key is 100\n",
      "\n",
      "All keys in Dictinoary is : dict_keys(['mango', 'banana', 'orange', 'kiwi'])\n",
      "\n",
      "All Values in Dictinoary is : dict_values([100, 10, 200, 20])\n",
      "\n",
      "All items in Dictinoary is : dict_items([('mango', 100), ('banana', 10), ('orange', 200), ('kiwi', 20)])\n",
      "\n",
      "Updated Dictionary is {'mango': 200, 'banana': 10, 'orange': 200, 'kiwi': 20}\n",
      "\n",
      "Deleted in Dictinoary value   : 200\n",
      "After deletion is {'banana': 10, 'orange': 200, 'kiwi': 20}\n"
     ]
    }
   ],
   "source": [
    "# Dictionary Method\n",
    "\n",
    "# Get Method\n",
    "simple_dict = {\"mango\": 100, \"banana\": 10, \"orange\": 200, \"kiwi\": 20}\n",
    "print(f\"Value at specific key is {simple_dict.get(\"mango\")}\")\n",
    "\n",
    "# List all keys\n",
    "print(f\"\\nAll keys in Dictinoary is : {simple_dict.keys()}\")\n",
    "\n",
    "# List all values\n",
    "print(f\"\\nAll Values in Dictinoary is : {simple_dict.values()}\")\n",
    "\n",
    "# List items\n",
    "print(f\"\\nAll items in Dictinoary is : {simple_dict.items()}\")\n",
    "\n",
    "# Update Value\n",
    "simple_dict.update({\"mango\" : 200})\n",
    "print(f\"\\nUpdated Dictionary is {simple_dict}\")\n",
    "\n",
    "# Remove items \n",
    "print(f\"\\nDeleted in Dictinoary value   : {simple_dict.pop(\"mango\")}\")\n",
    "print(f\"After deletion is {simple_dict}\")"
   ]
  },
  {
   "cell_type": "code",
   "execution_count": 39,
   "id": "493da8fc-a869-4e07-b696-e4cb19ac99f7",
   "metadata": {},
   "outputs": [
    {
     "name": "stdout",
     "output_type": "stream",
     "text": [
      "Key in index 1 is mango\n",
      "Key in index 2 is banana\n",
      "Key in index 3 is orange\n",
      "Key in index 4 is kiwi\n",
      "\n",
      "\n",
      "Key is mango and value is 100\n",
      "Key is banana and value is 10\n",
      "Key is orange and value is 200\n",
      "Key is kiwi and value is 20\n",
      "\n",
      "All items in Dictinoary is : dict_items([('mango', 100), ('banana', 10), ('orange', 200), ('kiwi', 20)])\n"
     ]
    }
   ],
   "source": [
    "# Loop \n",
    "\n",
    "# Print all Keys\n",
    "simple_dict = {\"mango\": 100, \"banana\": 10, \"orange\": 200, \"kiwi\": 20}\n",
    "i = 0 \n",
    "for items in simple_dict:\n",
    "    i = i+1\n",
    "    print(f\"Key in index {i} is {items}\")\n",
    "\n",
    "print(\"\\n\")\n",
    "\n",
    "# Print all Values\n",
    "for items in simple_dict:\n",
    "    print(f\"Key is {items} and value is {simple_dict[items]}\")\n",
    "\n",
    "# Using items method\n",
    "print(f\"\\nAll items in Dictinoary is : {simple_dict.items()}\")"
   ]
  },
  {
   "cell_type": "code",
   "execution_count": 41,
   "id": "4f8e213e-30ca-4c32-9346-6da44b17ed03",
   "metadata": {},
   "outputs": [
    {
     "name": "stdout",
     "output_type": "stream",
     "text": [
      "Question with answer {'What is the capital of France?': 'Paris', \"Who wrote the play 'Romeo and Juliet'?\": 'William Shakespeare', 'What is the symbol for the chemical element oxygen?': 'O', 'In which year did World War II end?': '1945', 'What is the tallest mammal on Earth?': 'Giraffe'}\n"
     ]
    }
   ],
   "source": [
    "# Dictionary Comprehension\n",
    "\n",
    "# Sample list of questions\n",
    "questions = [\n",
    "    \"What is the capital of France?\",\n",
    "    \"Who wrote the play 'Romeo and Juliet'?\",\n",
    "    \"What is the symbol for the chemical element oxygen?\",\n",
    "    \"In which year did World War II end?\",\n",
    "    \"What is the tallest mammal on Earth?\",\n",
    "]\n",
    "# Sample list of corresponding answers\n",
    "answers = [\n",
    "    \"Paris\",\n",
    "    \"William Shakespeare\",\n",
    "    \"O\",\n",
    "    \"1945\",\n",
    "    \"Giraffe\",\n",
    "]\n",
    "# Applying Comprehension\n",
    "quiz_dict = {q: a for q, a in zip(questions, answers)}\n",
    "print(f\"Question with answer : {quiz_dict}\")"
   ]
  },
  {
   "cell_type": "code",
   "execution_count": null,
   "id": "e076067c-2a8c-4523-9468-6cdaad689e56",
   "metadata": {},
   "outputs": [],
   "source": []
  }
 ],
 "metadata": {
  "kernelspec": {
   "display_name": "Python 3 (ipykernel)",
   "language": "python",
   "name": "python3"
  },
  "language_info": {
   "codemirror_mode": {
    "name": "ipython",
    "version": 3
   },
   "file_extension": ".py",
   "mimetype": "text/x-python",
   "name": "python",
   "nbconvert_exporter": "python",
   "pygments_lexer": "ipython3",
   "version": "3.12.2"
  }
 },
 "nbformat": 4,
 "nbformat_minor": 5
}
