{
 "cells": [
  {
   "cell_type": "code",
   "execution_count": 2,
   "id": "da055e16-951a-456f-ae01-41183d57bfaa",
   "metadata": {},
   "outputs": [
    {
     "name": "stdout",
     "output_type": "stream",
     "text": [
      "Hello World\n",
      "Hello World\n",
      "Hello World\n",
      "Hello World\n",
      "Hello World\n",
      "Hello World\n",
      "Hello World\n",
      "Hello World\n",
      "Hello World\n",
      "Hello World\n"
     ]
    }
   ],
   "source": [
    "# Python Loops\n",
    "\n",
    "# Q. Write a python program to print \"Hello world\" 10 times using while loop.\n",
    "i = 0 \n",
    "while(i < 10):\n",
    "    print(\"Hello World\")\n",
    "    i = i + 1"
   ]
  },
  {
   "cell_type": "code",
   "execution_count": 5,
   "id": "09bba96b-b9b1-40de-94aa-9270bcd5ae23",
   "metadata": {},
   "outputs": [
    {
     "name": "stdout",
     "output_type": "stream",
     "text": [
      "- mango\n",
      "- banana\n"
     ]
    }
   ],
   "source": [
    "# Q. Given list = ['mango', 'banana', 'apple', 'kiwi', 'orange']. print every items, if item = apple, then exit from loop.\n",
    "# break keyword\n",
    "\n",
    "_list = ['mango', 'banana', 'apple', 'kiwi', 'orange']\n",
    "for items in _list:\n",
    "    if items != 'apple':\n",
    "        print(\"-\",items)\n",
    "    else:\n",
    "        break"
   ]
  },
  {
   "cell_type": "code",
   "execution_count": 8,
   "id": "2ee28c5b-9dcd-43bf-8fe0-3dde73d2b9bb",
   "metadata": {},
   "outputs": [
    {
     "name": "stdout",
     "output_type": "stream",
     "text": [
      "- mango\n",
      "- banana\n",
      "- kiwi\n",
      "- orange\n"
     ]
    }
   ],
   "source": [
    "# Q. Given list = ['mango', 'banana', 'apple', 'kiwi', 'orange'].\n",
    "#    print every items, if item = apple, simply continue with next item without printing.\n",
    "\n",
    "# continue\n",
    "list = ['mango', 'banana', 'apple', 'kiwi', 'orange']\n",
    "for items in list:\n",
    "    if items == 'apple':\n",
    "        continue\n",
    "    else:\n",
    "        print(f\"- {items}\")"
   ]
  },
  {
   "cell_type": "code",
   "execution_count": 25,
   "id": "a50c73b1-68e2-4a9a-a620-e879a8a8b4b5",
   "metadata": {},
   "outputs": [
    {
     "name": "stdout",
     "output_type": "stream",
     "text": [
      "Even numbers in the list is : 10\n",
      "Even numbers in the list is : 20\n",
      "Even numbers in the list is : 2\n",
      "Even numbers in the list is : 100\n"
     ]
    }
   ],
   "source": [
    "# Q.1. Given List of numbers, [10, 20, 5, 7, 2, 9, 13, 100]. Print items that are even.\n",
    "\n",
    "input_list = [10, 20, 5, 7, 2, 9, 13, 100]\n",
    "for items in input_list:\n",
    "    if items % 2 == 0:\n",
    "        print(f\"Even numbers in the list is : {items}\")"
   ]
  },
  {
   "cell_type": "code",
   "execution_count": 30,
   "id": "e00c7388-ce4e-4d2f-aedf-1e7f4ea8d9b7",
   "metadata": {},
   "outputs": [
    {
     "name": "stdout",
     "output_type": "stream",
     "text": [
      "\n",
      "*\n",
      "**\n",
      "***\n",
      "****\n",
      "*****\n"
     ]
    }
   ],
   "source": [
    "# Q. Write a python program to print following patterns using range() function.\n",
    "# *                                       \n",
    "# **\n",
    "# ***                                               \n",
    "# ****\n",
    "# *****\n",
    "for i in range(6):\n",
    "    print(i* \"*\")"
   ]
  },
  {
   "cell_type": "code",
   "execution_count": 33,
   "id": "f25bce6b-6aef-4ed8-8166-dfd96bca4d87",
   "metadata": {},
   "outputs": [
    {
     "name": "stdin",
     "output_type": "stream",
     "text": [
      "Enter the string  Subinika\n"
     ]
    },
    {
     "name": "stdout",
     "output_type": "stream",
     "text": [
      "The vowels in the given string is : 4\n"
     ]
    }
   ],
   "source": [
    "# Q.1. Write a program that takes a string as input and counts the number of vowels (a, e, i, o, u) using a for loop.\n",
    "def getVowels(input_string):\n",
    "    vowels_list = ['a','e','i','o','u']\n",
    "    lower_string = input_string.lower()\n",
    "    vowel_count = 0\n",
    "    for chars in lower_string:\n",
    "        if chars in vowels_list:\n",
    "            vowel_count = vowel_count + 1\n",
    "\n",
    "    print(f\"The vowels in the given string is : {vowel_count}\")\n",
    "\n",
    "_string = input(\"Enter the string \" )\n",
    "getVowels(_string)"
   ]
  },
  {
   "cell_type": "code",
   "execution_count": 34,
   "id": "e96afbe1-b1e9-45dd-8d75-f49f12461bb5",
   "metadata": {},
   "outputs": [
    {
     "name": "stdout",
     "output_type": "stream",
     "text": [
      "All possible combination is 000\n",
      "All possible combination is 001\n",
      "All possible combination is 002\n",
      "All possible combination is 003\n",
      "All possible combination is 004\n",
      "All possible combination is 010\n",
      "All possible combination is 011\n",
      "All possible combination is 012\n",
      "All possible combination is 013\n",
      "All possible combination is 014\n",
      "All possible combination is 020\n",
      "All possible combination is 021\n",
      "All possible combination is 022\n",
      "All possible combination is 023\n",
      "All possible combination is 024\n",
      "All possible combination is 030\n",
      "All possible combination is 031\n",
      "All possible combination is 032\n",
      "All possible combination is 033\n",
      "All possible combination is 034\n",
      "All possible combination is 040\n",
      "All possible combination is 041\n",
      "All possible combination is 042\n",
      "All possible combination is 043\n",
      "All possible combination is 044\n",
      "All possible combination is 100\n",
      "All possible combination is 101\n",
      "All possible combination is 102\n",
      "All possible combination is 103\n",
      "All possible combination is 104\n",
      "All possible combination is 110\n",
      "All possible combination is 111\n",
      "All possible combination is 112\n",
      "All possible combination is 113\n",
      "All possible combination is 114\n",
      "All possible combination is 120\n",
      "All possible combination is 121\n",
      "All possible combination is 122\n",
      "All possible combination is 123\n",
      "All possible combination is 124\n",
      "All possible combination is 130\n",
      "All possible combination is 131\n",
      "All possible combination is 132\n",
      "All possible combination is 133\n",
      "All possible combination is 134\n",
      "All possible combination is 140\n",
      "All possible combination is 141\n",
      "All possible combination is 142\n",
      "All possible combination is 143\n",
      "All possible combination is 144\n",
      "All possible combination is 200\n",
      "All possible combination is 201\n",
      "All possible combination is 202\n",
      "All possible combination is 203\n",
      "All possible combination is 204\n",
      "All possible combination is 210\n",
      "All possible combination is 211\n",
      "All possible combination is 212\n",
      "All possible combination is 213\n",
      "All possible combination is 214\n",
      "All possible combination is 220\n",
      "All possible combination is 221\n",
      "All possible combination is 222\n",
      "All possible combination is 223\n",
      "All possible combination is 224\n",
      "All possible combination is 230\n",
      "All possible combination is 231\n",
      "All possible combination is 232\n",
      "All possible combination is 233\n",
      "All possible combination is 234\n",
      "All possible combination is 240\n",
      "All possible combination is 241\n",
      "All possible combination is 242\n",
      "All possible combination is 243\n",
      "All possible combination is 244\n",
      "All possible combination is 300\n",
      "All possible combination is 301\n",
      "All possible combination is 302\n",
      "All possible combination is 303\n",
      "All possible combination is 304\n",
      "All possible combination is 310\n",
      "All possible combination is 311\n",
      "All possible combination is 312\n",
      "All possible combination is 313\n",
      "All possible combination is 314\n",
      "All possible combination is 320\n",
      "All possible combination is 321\n",
      "All possible combination is 322\n",
      "All possible combination is 323\n",
      "All possible combination is 324\n",
      "All possible combination is 330\n",
      "All possible combination is 331\n",
      "All possible combination is 332\n",
      "All possible combination is 333\n",
      "All possible combination is 334\n",
      "All possible combination is 340\n",
      "All possible combination is 341\n",
      "All possible combination is 342\n",
      "All possible combination is 343\n",
      "All possible combination is 344\n",
      "All possible combination is 400\n",
      "All possible combination is 401\n",
      "All possible combination is 402\n",
      "All possible combination is 403\n",
      "All possible combination is 404\n",
      "All possible combination is 410\n",
      "All possible combination is 411\n",
      "All possible combination is 412\n",
      "All possible combination is 413\n",
      "All possible combination is 414\n",
      "All possible combination is 420\n",
      "All possible combination is 421\n",
      "All possible combination is 422\n",
      "All possible combination is 423\n",
      "All possible combination is 424\n",
      "All possible combination is 430\n",
      "All possible combination is 431\n",
      "All possible combination is 432\n",
      "All possible combination is 433\n",
      "All possible combination is 434\n",
      "All possible combination is 440\n",
      "All possible combination is 441\n",
      "All possible combination is 442\n",
      "All possible combination is 443\n",
      "All possible combination is 444\n"
     ]
    }
   ],
   "source": [
    "# Q.2 Write a program that generates all possible combinations of three numbers from 1 to 5 using nested for loops and prints them.\n",
    "for i in range(5):\n",
    "    for j in range(5):\n",
    "        for k in range(5):\n",
    "            print(f\"All possible combination is {str(i)+str(j)+str(k)}\")\n",
    "\n"
   ]
  },
  {
   "cell_type": "code",
   "execution_count": 43,
   "id": "d6121d40-65e7-47b2-9b55-eb60468cd4d9",
   "metadata": {},
   "outputs": [
    {
     "name": "stdin",
     "output_type": "stream",
     "text": [
      "Enter a string Sandy\n",
      "Enter 'U' for Upward and 'D' for Downward d\n"
     ]
    },
    {
     "name": "stdout",
     "output_type": "stream",
     "text": [
      " Sandy \n",
      "  Sand  \n",
      "   San   \n",
      "    Sa    \n",
      "     S     \n"
     ]
    }
   ],
   "source": [
    "# Create a program that generates a word pyramid pattern based on user input\n",
    "\n",
    "def stringPyramid(_string , direction):\n",
    "    new_string = ''\n",
    "    _length = len(_string)\n",
    "    if direction:\n",
    "        for i in range(1, len(_string)+1):\n",
    "            print(\" \" * (_length - i) , _string[:i] ,\" \" * (_length-i))\n",
    "    else:\n",
    "        for i in range(len(_string) , 0 , -1):\n",
    "            print(\" \" * (_length - i) , _string[:i] ,\" \" * (_length-i))\n",
    "\n",
    "_string = input(\"Enter a string\")\n",
    "direction = True\n",
    "direction_input = input(\"Enter 'U' for Upward and 'D' for Downward\")\n",
    "if direction_input.lower() == 'u':\n",
    "    drection = True\n",
    "elif direction_input.lower() == 'd':\n",
    "    direction = False\n",
    "else:\n",
    "    print(\"Invalid Command\")\n",
    "stringPyramid(_string, direction)"
   ]
  },
  {
   "cell_type": "code",
   "execution_count": 64,
   "id": "bc43ca12-82a4-4663-bb31-d6f2bd2856e9",
   "metadata": {},
   "outputs": [
    {
     "name": "stdin",
     "output_type": "stream",
     "text": [
      "Enter a list value separated by comma(,) 12,34,56,32,12345,1234,523456,345,2345,345,3\n",
      "Enter 'A' for Ascending and 'D' for Descending order :  a\n"
     ]
    },
    {
     "name": "stdout",
     "output_type": "stream",
     "text": [
      "Sorted Ascending Even List : ['12', '1234', '32', '34', '523456', '56'] and Odd List : ['12345', '2345', '3', '345', '345'] \n"
     ]
    }
   ],
   "source": [
    "# Create a program that takes a list of numbers from the user, sorts them into two separate lists (one for odd numbers and one for even numbers), and displays the sorted lists.\n",
    "def listManipulation(_list , order):\n",
    "    even_list =[] \n",
    "    odd_list =[] \n",
    "    if order:\n",
    "        _list.sort()\n",
    "        # print(_list)\n",
    "        for items in _list:\n",
    "            if items.isdigit():\n",
    "                if int(items) % 2 == 0 :\n",
    "                    even_list.append(items)\n",
    "                else:\n",
    "                    odd_list.append(items)\n",
    "            else:\n",
    "                print(\"Entered invalid Number\")\n",
    "                return\n",
    "        print(f\"Sorted Ascending Even List : {even_list} and Odd List : {odd_list} \")\n",
    "    else:\n",
    "        _list.sort(reverse = True)\n",
    "        for items in _list:\n",
    "            if items.isdigit():\n",
    "                if int(items) % 2 == 0 :\n",
    "                    even_list.append(items)\n",
    "                else:\n",
    "                    odd_list.append(items)\n",
    "            else:\n",
    "                print(\"Entered invalid Number\")\n",
    "                return\n",
    "        print(f\"Sorted Descending Even List : {even_list} and Odd List : {odd_list} \")\n",
    "\n",
    "input_string = input(\"Enter a list value separated by comma(,)\").strip()\n",
    "_list = input_string.split(\",\");\n",
    "# print(_list)\n",
    "\n",
    "order = True\n",
    "input_order = input(\"Enter 'A' for Ascending and 'D' for Descending order : \")\n",
    "if input_order.lower() == 'a':\n",
    "    order = True\n",
    "elif input_order.lower() == 'd':\n",
    "    order = False\n",
    "else:\n",
    "    print(\"No input match taking ascending order\")\n",
    "\n",
    "listManipulation(_list , order)\n",
    "    \n",
    "\n"
   ]
  },
  {
   "cell_type": "code",
   "execution_count": 77,
   "id": "4e5ef023-6e8a-4c61-9eb5-f9b0424fd3ed",
   "metadata": {},
   "outputs": [
    {
     "ename": "TypeError",
     "evalue": "'int' object is not callable",
     "output_type": "error",
     "traceback": [
      "\u001b[0;31m---------------------------------------------------------------------------\u001b[0m",
      "\u001b[0;31mTypeError\u001b[0m                                 Traceback (most recent call last)",
      "Cell \u001b[0;32mIn[77], line 14\u001b[0m\n\u001b[1;32m     12\u001b[0m repeat \u001b[38;5;241m=\u001b[39m \u001b[38;5;28;01mTrue\u001b[39;00m\n\u001b[1;32m     13\u001b[0m \u001b[38;5;28;01mwhile\u001b[39;00m repeat:\n\u001b[0;32m---> 14\u001b[0m     number \u001b[38;5;241m=\u001b[39m \u001b[38;5;28mint\u001b[39m(\u001b[38;5;28;43minput\u001b[39;49m\u001b[43m(\u001b[49m\u001b[38;5;124;43m\"\u001b[39;49m\u001b[38;5;124;43mEnter the number : \u001b[39;49m\u001b[38;5;124;43m\"\u001b[39;49m\u001b[43m \u001b[49m\u001b[43m)\u001b[49m)\n\u001b[1;32m     15\u001b[0m     primeCheck(input_number)\n\u001b[1;32m     16\u001b[0m     _input_string \u001b[38;5;241m=\u001b[39m \u001b[38;5;28minput\u001b[39m(\u001b[38;5;124m\"\u001b[39m\u001b[38;5;124mDo you want to repeat? \u001b[39m\u001b[38;5;124m'\u001b[39m\u001b[38;5;124mY\u001b[39m\u001b[38;5;124m'\u001b[39m\u001b[38;5;124m for Yes and \u001b[39m\u001b[38;5;124m'\u001b[39m\u001b[38;5;124mN\u001b[39m\u001b[38;5;124m'\u001b[39m\u001b[38;5;124m for No: \u001b[39m\u001b[38;5;124m\"\u001b[39m)\n",
      "\u001b[0;31mTypeError\u001b[0m: 'int' object is not callable"
     ]
    }
   ],
   "source": [
    "def primeCheck(number):\n",
    "    is_prime = True\n",
    "    for i in range(2, number):\n",
    "        if number % i == 0:\n",
    "            is_prime = False\n",
    "            break\n",
    "    if is_prime:\n",
    "        print(f\"{number} is a prime number\")\n",
    "    else:\n",
    "        print(f\"{number} is not a prime number\")\n",
    "\n",
    "repeat = True\n",
    "while repeat:\n",
    "    input_number = int(input(\"Enter the number to check: \"))\n",
    "    primeCheck(input_number)\n",
    "    _input_string = input(\"Do you want to repeat? 'Y' for Yes and 'N' for No: \")\n",
    "    if _input_string.lower() == 'n':\n",
    "        repeat = False\n",
    "    elif _input_string.lower() != 'y':\n",
    "        print(\"Invalid input. Exiting.\")\n",
    "        break\n"
   ]
  },
  {
   "cell_type": "code",
   "execution_count": null,
   "id": "d106e320-52f6-4b35-b1e4-e7d9756f0804",
   "metadata": {},
   "outputs": [],
   "source": []
  }
 ],
 "metadata": {
  "kernelspec": {
   "display_name": "Python 3 (ipykernel)",
   "language": "python",
   "name": "python3"
  },
  "language_info": {
   "codemirror_mode": {
    "name": "ipython",
    "version": 3
   },
   "file_extension": ".py",
   "mimetype": "text/x-python",
   "name": "python",
   "nbconvert_exporter": "python",
   "pygments_lexer": "ipython3",
   "version": "3.12.2"
  }
 },
 "nbformat": 4,
 "nbformat_minor": 5
}
