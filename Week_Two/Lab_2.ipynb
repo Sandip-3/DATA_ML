{
 "cells": [
  {
   "cell_type": "code",
   "execution_count": 2,
   "id": "fc5045a5-f002-4bb2-aca9-2bdf661ac233",
   "metadata": {},
   "outputs": [
    {
     "name": "stdout",
     "output_type": "stream",
     "text": [
      "The block runs\n"
     ]
    }
   ],
   "source": [
    "# If else in Python\n",
    "if True:\n",
    "    print(\"The block runs\")\n"
   ]
  },
  {
   "cell_type": "code",
   "execution_count": 14,
   "id": "c193440a-f40a-40f4-a19a-30a7bdd2bdbd",
   "metadata": {},
   "outputs": [
    {
     "name": "stdin",
     "output_type": "stream",
     "text": [
      "Enter the number to check : 12\n"
     ]
    },
    {
     "name": "stdout",
     "output_type": "stream",
     "text": [
      "Given number is 12 and it is Positive\n"
     ]
    }
   ],
   "source": [
    "# Q1. Input number from user. print \"postive number\" if number is positive else print \"negative number. Consider 0 as positive as well.\n",
    "\n",
    "input_number = int(input(\"Enter the number to check :\"))\n",
    "\n",
    "def positiveChecker(number):\n",
    "    if number >= 0 :\n",
    "                   print(f\"Given number is {number} and it is Positive\")\n",
    "    elif number < 0 :\n",
    "                   print(f\"Given number is {number} and it is Negative\")\n",
    "\n",
    "positiveChecker(input_number)"
   ]
  },
  {
   "cell_type": "code",
   "execution_count": 17,
   "id": "83c6fd2f-46a9-46fb-8bb9-73af6c828c76",
   "metadata": {},
   "outputs": [
    {
     "name": "stdin",
     "output_type": "stream",
     "text": [
      "Enter the first number :  12\n",
      "Enter the second number :  -12\n"
     ]
    },
    {
     "name": "stdout",
     "output_type": "stream",
     "text": [
      "12 is greater than -12\n"
     ]
    }
   ],
   "source": [
    "# Check Two Number \n",
    "\n",
    "def compareNumber(number_first , number_second):\n",
    "    if number_first > number_second:\n",
    "        print(f\"{number_first} is greater than {number_second}\")\n",
    "    elif number_first == number_second:\n",
    "        print(f\"{number_first} is equal to {number_second}\")\n",
    "    elif number_second > number_first:\n",
    "        print(f\"{number_second} is greater than {number_first}\")\n",
    "\n",
    "first_number = int(input(\"Enter the first number : \"))\n",
    "second_number = int(input(\"Enter the second number : \"))\n",
    "compareNumber(first_number , second_number)"
   ]
  },
  {
   "cell_type": "code",
   "execution_count": 34,
   "id": "7ae167e1-0372-46a7-a6ac-192b7491b1cf",
   "metadata": {},
   "outputs": [
    {
     "name": "stdin",
     "output_type": "stream",
     "text": [
      "Enter the first number :  23\n",
      "Enter the second number :  33\n",
      "Enter the third number :  12\n"
     ]
    },
    {
     "name": "stdout",
     "output_type": "stream",
     "text": [
      "33 is greater than 12 and 23\n"
     ]
    }
   ],
   "source": [
    "# Q. Write a python program to find max of three numbers.\n",
    "def greaterSmaller(number_first , number_second , number_third):\n",
    "   if number_first > number_second:\n",
    "       if number_first > number_third:\n",
    "           print(f\"{number_first} is greater than {number_second} and {number_third}\")\n",
    "       else:\n",
    "           print(f\"{number_third} is greater than {number_second} and {number_first}\")\n",
    "\n",
    "   else:\n",
    "        if number_second > number_third:\n",
    "            print(f\"{number_second} is greater than {number_third} and {number_first}\")\n",
    "        else:\n",
    "            print(f\"{number_third} is greater than {number_second} and {number_first}\") \n",
    "           \n",
    "\n",
    "first_number = int(input(\"Enter the first number : \"))\n",
    "second_number = int(input(\"Enter the second number : \"))\n",
    "third_number = int(input(\"Enter the third number : \"))\n",
    "greaterSmaller(first_number , second_number , third_number)"
   ]
  },
  {
   "cell_type": "code",
   "execution_count": 42,
   "id": "a0bc71cf-eab1-4511-b94f-cfa1fb887c89",
   "metadata": {},
   "outputs": [
    {
     "name": "stdout",
     "output_type": "stream",
     "text": [
      "Max number is  20\n"
     ]
    },
    {
     "name": "stdin",
     "output_type": "stream",
     "text": [
      "\n",
      "Enter the first number :  12\n",
      "Enter the second number :  23\n",
      "Enter the third number :  34\n"
     ]
    },
    {
     "name": "stdout",
     "output_type": "stream",
     "text": [
      "\n",
      " 34 Is greater among all\n"
     ]
    }
   ],
   "source": [
    "# Ternary Operator\n",
    "# Two number comparision \n",
    "x = 10\n",
    "y = 20\n",
    "max_value = x if x > y else y\n",
    "print(\"Max number is \" ,max_value)  \n",
    "\n",
    "# Three number comparision\n",
    "first_number = int(input(\"\\nEnter the first number : \"))\n",
    "second_number = int(input(\"Enter the second number : \"))\n",
    "third_number = int(input(\"Enter the third number : \"))\n",
    "max_number = first_number if (first_number > second_number and first_number > third_number) else (second_number if second_number > third_number else third_number)\n",
    "print(\"\\n\",max_number , \"Is greater among all\")"
   ]
  },
  {
   "cell_type": "code",
   "execution_count": 48,
   "id": "eeb0f1b8-46e5-4ae6-8bf4-fc63c6300a56",
   "metadata": {},
   "outputs": [],
   "source": [
    "# Pass Keyword\n",
    "number_first = 12\n",
    "number_second = 22\n",
    "if number_first > number_second:\n",
    "    print(\"Conditon not Matched\")\n",
    "else:\n",
    "    pass\n",
    "    "
   ]
  },
  {
   "cell_type": "code",
   "execution_count": 8,
   "id": "541da9c2-649b-40a2-bfcb-730e70118652",
   "metadata": {},
   "outputs": [
    {
     "name": "stdin",
     "output_type": "stream",
     "text": [
      "Enter your grade :  98\n"
     ]
    },
    {
     "name": "stdout",
     "output_type": "stream",
     "text": [
      "Congratulation you got A Grade\n"
     ]
    }
   ],
   "source": [
    "# Create a simple grading system\n",
    "\n",
    "\n",
    "def gradeCalculator(input_grade):\n",
    "    if input_grade < 0 or input_grade > 100:\n",
    "        print(\"Please Enter Grade between 0 and 100 \" )\n",
    "        return\n",
    "    if input_grade <= 99 and input_grade >= 90:\n",
    "        print(\"Congratulation you got A Grade\")\n",
    "    elif input_grade <= 89 and input_grade >= 80:\n",
    "        print(\"Congratulation you got B Grade\")\n",
    "    elif input_grade <= 79 and input_grade >= 70:\n",
    "        print(\"Congratulation you got C Grade\")\n",
    "    elif input_grade <= 69 and input_grade >= 60:\n",
    "        print(\"Congratulation you got D Grade\")\n",
    "    else:\n",
    "        print(\"Congratulation you got F Grade\")\n",
    "\n",
    "input_grade = int(input(\"Enter your grade : \"))\n",
    "gradeCalculator(input_grade)"
   ]
  },
  {
   "cell_type": "code",
   "execution_count": 25,
   "id": "1ffa4571-a349-465f-80f2-73bafdc952e6",
   "metadata": {},
   "outputs": [
    {
     "name": "stdin",
     "output_type": "stream",
     "text": [
      "Enter your age :  23\n",
      "Are you a student ? 'Y' for 'Yes' and 'N' for 'No'  Y\n"
     ]
    },
    {
     "name": "stdout",
     "output_type": "stream",
     "text": [
      "Your ticket price is $18\n"
     ]
    }
   ],
   "source": [
    "# Create a program that calculates the ticket price for a movie based on the age and whether the customer is a student.\n",
    "\n",
    "# 1. Get the user's age and whether they are a student (True or False) as input.\n",
    "# 2. Define the ticket prices:\n",
    "#    - Children (age 0-12): \\$10\n",
    "#    - Teenagers (age 13-17): \\$15\n",
    "#    - Adults (age 18 and above): $20\n",
    "#    - Students (regardless of age): \\$18 (discounted price)\n",
    "# 3. Calculate and print the ticket price based on the user's age and student status.\n",
    "# 4. Handle cases where the entered age is not a valid numeric value.\n",
    "# 5. Provide a message for cases where the age is negative or non-integer.\n",
    "\n",
    "def ticketCounter(person_age , is_student):\n",
    "    if person_age < 0 :\n",
    "        print(\"Invalid Age\")\n",
    "        return\n",
    "    if is_student:\n",
    "        print(\"Your ticket price is $18\")\n",
    "        return\n",
    "    if person_age > 0 and person_age <= 12:\n",
    "        print(\"Your ticket price is $10\")\n",
    "    elif person_age <= 17 and person_age >= 13:\n",
    "        print(\"Your ticket peice is $15\")\n",
    "    elif  person_age >= 18:\n",
    "        print(\"Your ticket price is $20\")\n",
    "    \n",
    "\n",
    "person_age = int(input(\"Enter your age : \"))\n",
    "is_student = None;\n",
    "student = input(\"Are you a student ? 'Y' for 'Yes' and 'N' for 'No' \")\n",
    "if student.lower() == 'y':\n",
    "    is_student = True\n",
    "else:\n",
    "    is_student = False\n",
    "\n",
    "ticketCounter(person_age , is_student)"
   ]
  },
  {
   "cell_type": "code",
   "execution_count": 52,
   "id": "badfbbb3-8b20-433d-b365-ff6f4caaca5c",
   "metadata": {},
   "outputs": [
    {
     "name": "stdin",
     "output_type": "stream",
     "text": [
      "Enter a paragraph hello @moon pie\n"
     ]
    },
    {
     "name": "stdout",
     "output_type": "stream",
     "text": [
      "moon is repeated 1 times in given string.\n",
      "hello is repeated 1 times in given string.\n",
      "pie is repeated 1 times in given string.\n"
     ]
    }
   ],
   "source": [
    "# Create a program that analyzes a given text and counts the frequency of each unique word.\n",
    "\n",
    "# 1. Ask the user to input a paragraph or sentence.\n",
    "# 2. Tokenize the input into words (ignoring punctuation and case sensitivity).\n",
    "# 3. Count the frequency of each unique word.\n",
    "# 4. Display the word frequencies in alphabetical order.\n",
    "# 5. Handle cases where the input is empty.\n",
    "import string\n",
    "def wordCount(input_string):\n",
    "    if len(input_string) <= 0:\n",
    "        print(\"Please Enter paragraph to proceed\")\n",
    "        return\n",
    "    lower_string = input_string.lower().strip()\n",
    "\n",
    "    for char in string.punctuation:\n",
    "        lower_string = lower_string.replace(char, \"\")\n",
    "        \n",
    "    string_list = lower_string.split(\" \")\n",
    "    sorted_list = sorted(string_list)\n",
    "    new_set = set(sorted_list)\n",
    "    new_tuple = tuple(sorted_list)\n",
    "    for items in new_set:\n",
    "        print(f\"{items} is repeated {new_tuple.count(items)} times in given string.\")\n",
    "\n",
    "input_string = input(\"Enter a paragraph\")\n",
    "wordCount(input_string)"
   ]
  },
  {
   "cell_type": "code",
   "execution_count": 61,
   "id": "42fd7648-a659-4ef0-a505-1d546e1ef6c8",
   "metadata": {},
   "outputs": [
    {
     "name": "stdout",
     "output_type": "stream",
     "text": [
      "Enter a 3x3 matrix (nine integer values):\n"
     ]
    },
    {
     "name": "stdin",
     "output_type": "stream",
     "text": [
      "Enter value for matrix[0][0]:  12\n",
      "Enter value for matrix[0][1]:  abc\n"
     ]
    },
    {
     "name": "stdout",
     "output_type": "stream",
     "text": [
      "Invalid input. Please enter an integer value.\n"
     ]
    },
    {
     "name": "stdin",
     "output_type": "stream",
     "text": [
      "Enter value for matrix[0][1]:  12\n",
      "Enter value for matrix[0][2]:  dsa\n"
     ]
    },
    {
     "name": "stdout",
     "output_type": "stream",
     "text": [
      "Invalid input. Please enter an integer value.\n"
     ]
    },
    {
     "name": "stdin",
     "output_type": "stream",
     "text": [
      "Enter value for matrix[0][2]:  12\n",
      "Enter value for matrix[1][0]:  12\n",
      "Enter value for matrix[1][1]:  12\n",
      "Enter value for matrix[1][2]:  12\n",
      "Enter value for matrix[2][0]:  12\n",
      "Enter value for matrix[2][1]:  12\n",
      "Enter value for matrix[2][2]:  12\n"
     ]
    },
    {
     "name": "stdout",
     "output_type": "stream",
     "text": [
      "The given matrix forms a magic square.\n"
     ]
    }
   ],
   "source": [
    "# Create a program that checks if a given 3x3 matrix forms a magic square.\n",
    "\n",
    "# 1. A magic square is a square matrix where the sums of the numbers in each row, column, and both main diagonals are the same.\n",
    "# 2. Ask the user to input a 3x3 matrix (nine integer values).\n",
    "# 3. Check and print whether the given matrix forms a magic square.\n",
    "# 4. Handle cases where the input matrix is not of size 3x3 or contains non-integer values.\n",
    "\n",
    "def magicSquare():\n",
    "\n",
    "    matrix = [[0] * 3 for _ in range(3)]\n",
    "    print(\"Enter a 3x3 matrix (nine integer values):\")\n",
    "    for i in range(3):\n",
    "        for j in range(3):\n",
    "            while True:\n",
    "                try:\n",
    "                    value = int(input(f\"Enter value for matrix[{i}][{j}]: \"))\n",
    "                    matrix[i][j] = value\n",
    "                    break\n",
    "                except ValueError:\n",
    "                    print(\"Invalid input. Please enter an integer value.\")\n",
    "    if is_magic_square(matrix):\n",
    "        print(\"The given matrix forms a magic square.\")\n",
    "    else:\n",
    "        print(\"The given matrix does not form a magic square.\")\n",
    "magicSquare()\n"
   ]
  },
  {
   "cell_type": "code",
   "execution_count": 64,
   "id": "672d1cf1-80d8-48e5-a03f-63fd57319da7",
   "metadata": {},
   "outputs": [
    {
     "name": "stdin",
     "output_type": "stream",
     "text": [
      "Please enter a string Rar\n"
     ]
    },
    {
     "name": "stdout",
     "output_type": "stream",
     "text": [
      "Given String Rar is Palindrome\n"
     ]
    }
   ],
   "source": [
    "# Create a program that checks if a given string can be rearranged to form a palindromic string.\n",
    "\n",
    "# 1. A palindrome is a word, phrase, number, or other sequences of characters that reads the same forward and backward.\n",
    "# 2. Ask the user to input a string.\n",
    "# 3. Check and print whether the given string can be rearranged to form a palindrome.\n",
    "# 4. Ignore spaces and consider the characters in a case-insensitive manner.\n",
    "# 5. Handle cases where the input is empty or contains non-alphabetic characters.\n",
    "\n",
    "def plaindromeCheck(input_string):\n",
    "    lower_string = input_string.lower()\n",
    "    reverse_string = lower_string[::-1]\n",
    "    if reverse_string == lower_string:\n",
    "        print(f\"Given String {input_string} is Palindrome\" )\n",
    "    else:\n",
    "        print(\"Given String is not Palindrome\")\n",
    "\n",
    "input_string = input(\"Please enter a string\")\n",
    "plaindromeCheck(input_string)"
   ]
  },
  {
   "cell_type": "code",
   "execution_count": null,
   "id": "1e128d9e-7c92-4623-b4c2-ab437b6b5876",
   "metadata": {},
   "outputs": [],
   "source": []
  }
 ],
 "metadata": {
  "kernelspec": {
   "display_name": "Python 3 (ipykernel)",
   "language": "python",
   "name": "python3"
  },
  "language_info": {
   "codemirror_mode": {
    "name": "ipython",
    "version": 3
   },
   "file_extension": ".py",
   "mimetype": "text/x-python",
   "name": "python",
   "nbconvert_exporter": "python",
   "pygments_lexer": "ipython3",
   "version": "3.12.2"
  }
 },
 "nbformat": 4,
 "nbformat_minor": 5
}
