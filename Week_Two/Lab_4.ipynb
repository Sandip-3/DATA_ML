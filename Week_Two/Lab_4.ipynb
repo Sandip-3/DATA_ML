{
 "cells": [
  {
   "cell_type": "code",
   "execution_count": 17,
   "id": "3277094f-1d05-4497-adf3-7350396bfd6c",
   "metadata": {},
   "outputs": [
    {
     "name": "stdout",
     "output_type": "stream",
     "text": [
      "('sandip', 'poudel')\n",
      "{'hello': 'world'}\n"
     ]
    }
   ],
   "source": [
    "# Function in \n",
    "def test_program(*args , **kargs):\n",
    "    print(args)\n",
    "    print(kargs)\n",
    "\n",
    "name = list(('sandip' , 'poudel'))\n",
    "test_program(*name , hello = \"world\" )"
   ]
  },
  {
   "cell_type": "code",
   "execution_count": 18,
   "id": "56882ffb-e74f-4213-8d1c-b4f87d505bfe",
   "metadata": {},
   "outputs": [
    {
     "name": "stdout",
     "output_type": "stream",
     "text": [
      "Function without return time.\n"
     ]
    }
   ],
   "source": [
    "# 2. Create a function without parameters and without return statement.\n",
    "def function_call():\n",
    "    print(\"Function without return time.\")\n",
    "\n",
    "function_call()"
   ]
  },
  {
   "cell_type": "code",
   "execution_count": 23,
   "id": "a92296e4-0f19-4c97-be31-03b6824a7a02",
   "metadata": {},
   "outputs": [
    {
     "name": "stdin",
     "output_type": "stream",
     "text": [
      "Enter the number: 12\n",
      "Enter the second Number :  23\n"
     ]
    },
    {
     "name": "stdout",
     "output_type": "stream",
     "text": [
      "23 is greater than 12\n"
     ]
    }
   ],
   "source": [
    "# Q. Write a python function that takes two integer input from user and print greater number. =>(no parameter, no return)\n",
    "\n",
    "def function_noargs():\n",
    "    first_number = int(input(\"Enter the number:\"))\n",
    "    second_number = int(input(\"Enter the second Number : \"))\n",
    "    try:\n",
    "        if first_number > second_number:\n",
    "            print(f\"{first_number} is greater than {second_number}\")\n",
    "        else:\n",
    "            print(f\"{second_number} is greater than {first_number}\")\n",
    "    except (error) as e:\n",
    "        print({e})\n",
    "\n",
    "function_noargs()"
   ]
  },
  {
   "cell_type": "code",
   "execution_count": 1,
   "id": "7bdd11ce-4798-44e1-8688-6b32a23e81b9",
   "metadata": {},
   "outputs": [
    {
     "name": "stdin",
     "output_type": "stream",
     "text": [
      "Enter First Number : 12\n",
      "Enter Second Number : 23\n"
     ]
    },
    {
     "name": "stdout",
     "output_type": "stream",
     "text": [
      "Number 23 is greater among 12 and 23 \n"
     ]
    }
   ],
   "source": [
    "# 3. Create function with parameters and without return statement\n",
    "def function_parameter(number_first , number_second):\n",
    "    if not number_first and number_second:\n",
    "        print(\"Please provide number to compare : \")\n",
    "    greater_number = number_first if number_first > number_second else number_second\n",
    "    print(f\"Number {greater_number} is greater among {number_first} and {number_second} \")\n",
    "\n",
    "first_number = int(input(\"Enter First Number :\"))\n",
    "second_number = int(input(\"Enter Second Number :\"))\n",
    "function_parameter(first_number , second_number)\n",
    "                "
   ]
  },
  {
   "cell_type": "code",
   "execution_count": 4,
   "id": "3048d445-3e7b-4891-986d-925588ed7122",
   "metadata": {},
   "outputs": [
    {
     "name": "stdin",
     "output_type": "stream",
     "text": [
      "Enter First Number : 12\n",
      "Enter Second Number : 33\n"
     ]
    },
    {
     "name": "stdout",
     "output_type": "stream",
     "text": [
      "Number 33 is greater among 12 and 33 \n"
     ]
    }
   ],
   "source": [
    "# Q. Write a python function that takes two integer as a argument and return greater number from function.\n",
    "\n",
    "def function_parameter(number_first , number_second):\n",
    "    if not number_first and number_second:\n",
    "        print(\"Please provide number to compare : \")\n",
    "    greater_number = number_first if number_first > number_second else number_second\n",
    "    return greater_number\n",
    "\n",
    "first_number = int(input(\"Enter First Number :\"))\n",
    "second_number = int(input(\"Enter Second Number :\"))\n",
    "result = function_parameter(first_number , second_number)\n",
    "print(f\"Number {result} is greater among {first_number} and {second_number} \")"
   ]
  },
  {
   "cell_type": "code",
   "execution_count": 5,
   "id": "5d6361c5-6cfb-4a15-ac97-4cb96872b480",
   "metadata": {},
   "outputs": [
    {
     "name": "stdout",
     "output_type": "stream",
     "text": [
      "I am from function:  15\n",
      "I am from outside of function:  15\n"
     ]
    }
   ],
   "source": [
    "# Global Variables\n",
    "\n",
    "x = 10  \n",
    "\n",
    "def my_function():\n",
    "    global x \n",
    "    x += 5\n",
    "    print(\"I am from function: \", x)\n",
    "\n",
    "my_function()  \n",
    "\n",
    "print(\"I am from outside of function: \", x) "
   ]
  },
  {
   "cell_type": "code",
   "execution_count": 13,
   "id": "6d594d92-d8bd-460d-989f-3fff12ba46f7",
   "metadata": {},
   "outputs": [
    {
     "name": "stdin",
     "output_type": "stream",
     "text": [
      "Enter the numbers :  12 2\n"
     ]
    },
    {
     "name": "stdout",
     "output_type": "stream",
     "text": [
      "Multiplication of given number ['12', '2'] is 24\n"
     ]
    }
   ],
   "source": [
    "# Q. Write a python function that return multiplication of all the numbers passed by user as a argument.\n",
    "\n",
    "def dynamic_multiplication(*args):\n",
    "  mult = 1\n",
    "\n",
    "  for item in args:\n",
    "    mult = mult * int(item)\n",
    "\n",
    "  return mult\n",
    "input_items = input(\"Enter the numbers : \")\n",
    "input_list = input_items.split(\" \")\n",
    "result = dynamic_multiplication(*input_list)\n",
    "print(f\"Multiplication of given number {input_list} is {result}\")"
   ]
  },
  {
   "cell_type": "code",
   "execution_count": 15,
   "id": "4e585005-862b-4cb4-8551-8bc18f87aecf",
   "metadata": {},
   "outputs": [
    {
     "name": "stdout",
     "output_type": "stream",
     "text": [
      "Hello Sandy your age is 23 \n",
      "Hello Subinika your age is 22 \n"
     ]
    }
   ],
   "source": [
    "# Keyword Arguments\n",
    "\n",
    "def function_keyword(name , age ):\n",
    "    print(f\"Hello {name} your age is {age} \" )\n",
    "\n",
    "function_keyword(name=\"Sandy\" , age = 23)\n",
    "function_keyword(age=22 , name = \"Subinika\")"
   ]
  },
  {
   "cell_type": "code",
   "execution_count": 24,
   "id": "e86e04d4-5eb5-4fd5-9361-4bb312f7d722",
   "metadata": {},
   "outputs": [
    {
     "name": "stdout",
     "output_type": "stream",
     "text": [
      "Hello Sandip\n"
     ]
    }
   ],
   "source": [
    "# Multiple keyword arguments\n",
    "\n",
    "def function_key(**kwargs):\n",
    "    for key , value in kwargs.items():\n",
    "        print(f\"Hello {value}\")\n",
    "function_key(name = \"Sandip\")"
   ]
  },
  {
   "cell_type": "code",
   "execution_count": 25,
   "id": "1b9840c9-2ded-4cf1-bcd9-e633438196fb",
   "metadata": {},
   "outputs": [
    {
     "name": "stdout",
     "output_type": "stream",
     "text": [
      "6\n",
      "24\n",
      "120\n"
     ]
    }
   ],
   "source": [
    "# Recursion\n",
    "def factorial(n):\n",
    "  if (n==0 or n==1):\n",
    "    return 1\n",
    "\n",
    "  else:\n",
    "    return n * factorial(n-1)\n",
    "\n",
    "print(factorial(3))\n",
    "print(factorial(4))\n",
    "print(factorial(5))"
   ]
  },
  {
   "cell_type": "code",
   "execution_count": 34,
   "id": "703a4d4c-abdb-4517-b50c-4235c52b3ccc",
   "metadata": {},
   "outputs": [
    {
     "name": "stdin",
     "output_type": "stream",
     "text": [
      "Enter the list of numbers seperated by comma (,) : 12,23,34\n"
     ]
    },
    {
     "name": "stdout",
     "output_type": "stream",
     "text": [
      "Multiplication of input list ['12', '23', '34'] is 9384\n"
     ]
    }
   ],
   "source": [
    "# Assignment\n",
    "\n",
    "# Q.1 Write a python function to multiply all the numbers in a list\n",
    "\n",
    "def function_multiply(*args):\n",
    "    if not args:\n",
    "        print(\"Argument not passed \")\n",
    "    multiply = 1\n",
    "    for items in args:\n",
    "        multiply = multiply * int(items.strip())\n",
    "    return multiply\n",
    "    \n",
    "\n",
    "input_value = input(\"Enter the list of numbers seperated by comma (,) :\")\n",
    "list_value = input_value.split(\",\")\n",
    "result = function_multiply(*list_value)\n",
    "print((f\"Multiplication of input list {list_value} is {result}\"))"
   ]
  },
  {
   "cell_type": "code",
   "execution_count": 35,
   "id": "c8391c10-3d9e-4e82-b365-e644ccab3c6c",
   "metadata": {},
   "outputs": [
    {
     "name": "stdin",
     "output_type": "stream",
     "text": [
      "Please enter a string :  Sandy\n"
     ]
    },
    {
     "name": "stdout",
     "output_type": "stream",
     "text": [
      "Reverse of a string Sandy is ydnaS \n"
     ]
    }
   ],
   "source": [
    "# Q.2 Write a python function to reverse a string\n",
    "\n",
    "def reverse_string(_string):\n",
    "    reverse_string = _string[::-1]\n",
    "    return reverse_string\n",
    "\n",
    "input_string = input(\"Please enter a string : \")\n",
    "reverse = reverse_string(input_string)\n",
    "print(f\"Reverse of a string {input_string} is {reverse} \" )"
   ]
  },
  {
   "cell_type": "code",
   "execution_count": 45,
   "id": "431d057b-07f8-4ef6-bc7c-0b1b2c0bba89",
   "metadata": {},
   "outputs": [
    {
     "name": "stdin",
     "output_type": "stream",
     "text": [
      "Enter a number to calculate factorial :  23\n"
     ]
    },
    {
     "name": "stdout",
     "output_type": "stream",
     "text": [
      "Factorial of given number 23 is 25852016738884976640000\n"
     ]
    },
    {
     "name": "stdin",
     "output_type": "stream",
     "text": [
      "Do you want to re-run the program ? 'Y'(Yes) and 'N'(No) :  y\n",
      "Enter a number to calculate factorial :  3\n"
     ]
    },
    {
     "name": "stdout",
     "output_type": "stream",
     "text": [
      "Factorial of given number 3 is 6\n"
     ]
    },
    {
     "name": "stdin",
     "output_type": "stream",
     "text": [
      "Do you want to re-run the program ? 'Y'(Yes) and 'N'(No) :  h\n"
     ]
    },
    {
     "name": "stdout",
     "output_type": "stream",
     "text": [
      "Bad Input Exiting.... \n"
     ]
    }
   ],
   "source": [
    "# Q.3 Write a python function to find factorial of a given non negativenumber\n",
    "\n",
    "def factorial_fun(_number):\n",
    "    factorial = 1\n",
    "    if _number < 0 :\n",
    "        print(\"Please enter a non negative number \")\n",
    "        return\n",
    "\n",
    "    if _number == 0 or _number == 1:\n",
    "        return 1\n",
    "    else:\n",
    "        factorial = _number * factorial_fun(_number -1)\n",
    "\n",
    "    return factorial\n",
    "re_run = True\n",
    "while re_run:\n",
    "    input_number = int(input(\"Enter a number to calculate factorial : \"))\n",
    "    result = factorial_fun(input_number)\n",
    "    print(f\"Factorial of given number {input_number} is {result}\")\n",
    "    string_ = input(\"Do you want to re-run the program ? 'Y'(Yes) and 'N'(No) : \")\n",
    "    if string_.lower() == 'n':\n",
    "        re_run = False\n",
    "        print(\"Program Exit Success\")\n",
    "    elif string_.lower() != 'y':\n",
    "        print(\"Bad Input Exiting.... \")\n",
    "        break\n",
    "    "
   ]
  },
  {
   "cell_type": "code",
   "execution_count": 55,
   "id": "d097cb5c-4b55-4c0c-b00c-5f9795f04f23",
   "metadata": {},
   "outputs": [
    {
     "name": "stdin",
     "output_type": "stream",
     "text": [
      "Enter the string Sany Mandy\n"
     ]
    },
    {
     "name": "stdout",
     "output_type": "stream",
     "text": [
      "Given String is 'Sany Mandy' and Lower letter Count is : 7 and Capital Letter Count is : 2\n"
     ]
    }
   ],
   "source": [
    "# Q.5 Write a python function that accepts a string and calculate the number of upper case letters and lower case letters`\n",
    "import string\n",
    "def string_count(_string):\n",
    "    capital_count = 0\n",
    "    lower_count = 0\n",
    "    capital_value = \"ABCDEFGHIJKLMNOPQRSTUVWXYZ\"\n",
    "    for items in _string:\n",
    "        if items in capital_value:\n",
    "            capital_count = capital_count + 1\n",
    "        else:\n",
    "            lower_count = lower_count + 1\n",
    "\n",
    "    return lower_count , capital_count\n",
    "\n",
    "input_string = input(\"Enter the string\")\n",
    "display_string = input_string\n",
    "input_string.strip()\n",
    "for char in input_string:\n",
    "    if char in string.punctuation:\n",
    "        input_string = input_string.replace(char , \"\")\n",
    "input_string = input_string.replace(\" \" , \"\")\n",
    "lower , capital = string_count(input_string)\n",
    "print(f\"Given String is '{display_string}' and Lower letter Count is : {lower} and Capital Letter Count is : {capital}\")\n",
    "            \n"
   ]
  },
  {
   "cell_type": "code",
   "execution_count": null,
   "id": "206b0a33-69f9-441e-b1f0-cc6a36c1a93a",
   "metadata": {},
   "outputs": [],
   "source": [
    "# Q.6 Write a python function that takes a list and returns a new list with unique elements of the first list"
   ]
  }
 ],
 "metadata": {
  "kernelspec": {
   "display_name": "Python 3 (ipykernel)",
   "language": "python",
   "name": "python3"
  },
  "language_info": {
   "codemirror_mode": {
    "name": "ipython",
    "version": 3
   },
   "file_extension": ".py",
   "mimetype": "text/x-python",
   "name": "python",
   "nbconvert_exporter": "python",
   "pygments_lexer": "ipython3",
   "version": "3.12.2"
  }
 },
 "nbformat": 4,
 "nbformat_minor": 5
}
