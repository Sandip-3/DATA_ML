{
 "cells": [
  {
   "cell_type": "code",
   "execution_count": 1,
   "metadata": {},
   "outputs": [],
   "source": [
    "!touch input_file.txt"
   ]
  },
  {
   "cell_type": "code",
   "execution_count": 2,
   "metadata": {},
   "outputs": [
    {
     "name": "stdout",
     "output_type": "stream",
     "text": [
      "Execution time of Synchronous program is: 2.5034420490264893\n"
     ]
    }
   ],
   "source": [
    "# Synchronous Program \n",
    "import time\n",
    "\n",
    "def process_data_synchronously(data):\n",
    "    process_data = \"\"\n",
    "    for char in data:\n",
    "        time.sleep(0.1)\n",
    "        process_data += char.upper()\n",
    "    return process_data\n",
    "\n",
    "with open('input_file.txt', 'r') as input_file:\n",
    "    data = input_file.read()\n",
    "\n",
    "start_time = time.time()\n",
    "processed_data = process_data_synchronously(data)\n",
    "end_time = time.time()\n",
    "\n",
    "with open('input_file.txt' , 'w') as output_file:\n",
    "    output_file.write(processed_data)\n",
    "\n",
    "execution_time = end_time - start_time\n",
    "print(f\"Execution time of Synchronous program is: {execution_time}\")"
   ]
  },
  {
   "cell_type": "code",
   "execution_count": 8,
   "metadata": {},
   "outputs": [
    {
     "name": "stdout",
     "output_type": "stream",
     "text": [
      "Execution time of Multithreading program is: 0.6311659812927246\n"
     ]
    }
   ],
   "source": [
    "# Multi Threading\n",
    "import threading\n",
    "import time\n",
    "\n",
    "def process_data_thread(data, result):\n",
    "    processed_data = \"\"\n",
    "    for char in data:\n",
    "        time.sleep(0.1)\n",
    "        processed_data += char.upper()\n",
    "    result.append(processed_data)\n",
    "\n",
    "def process_data_concurrently(data):\n",
    "    chunk_size = len(data) // NUM_THREADS\n",
    "    threads = []\n",
    "    results = []\n",
    "    start_index = 0\n",
    "\n",
    "    # Create threads to process data chunks concurrently\n",
    "    for _ in range(NUM_THREADS):\n",
    "        end_index = start_index + chunk_size\n",
    "        thread_data = data[start_index:end_index]\n",
    "        result = []\n",
    "        thread = threading.Thread(target=process_data_thread, args=(thread_data, result))\n",
    "        threads.append(thread)\n",
    "        results.append(result)\n",
    "        thread.start()\n",
    "        start_index = end_index\n",
    "\n",
    "    # Wait for all threads to complete\n",
    "    for thread in threads:\n",
    "        thread.join()\n",
    "\n",
    "    # Concatenate processed data from all threads\n",
    "    processed_data = \"\"\n",
    "    for result in results:\n",
    "        processed_data += result[0]\n",
    "\n",
    "    return processed_data\n",
    "\n",
    "NUM_THREADS = 4\n",
    "\n",
    "with open('input_file.txt', 'r') as input_file:\n",
    "    data = input_file.read()\n",
    "\n",
    "start_time = time.time()\n",
    "processed_data = process_data_concurrently(data)\n",
    "end_time = time.time()\n",
    "\n",
    "with open('output_file.txt', 'w') as output_file:\n",
    "    output_file.write(processed_data)\n",
    "\n",
    "execution_time = end_time - start_time\n",
    "print(f\"Execution time of Multithreading program is: {execution_time}\")"
   ]
  },
  {
   "cell_type": "code",
   "execution_count": 12,
   "metadata": {},
   "outputs": [
    {
     "name": "stdout",
     "output_type": "stream",
     "text": [
      "Execution time of Multiprocessing program is: 0.07044696807861328\n"
     ]
    },
    {
     "name": "stderr",
     "output_type": "stream",
     "text": [
      "Traceback (most recent call last):\n",
      "Traceback (most recent call last):\n",
      "Traceback (most recent call last):\n",
      "  File \"<string>\", line 1, in <module>\n",
      "  File \"<string>\", line 1, in <module>\n",
      "  File \"<string>\", line 1, in <module>\n",
      "Traceback (most recent call last):\n",
      "  File \"<string>\", line 1, in <module>\n",
      "  File \"/Library/Frameworks/Python.framework/Versions/3.10/lib/python3.10/multiprocessing/spawn.py\", line 116, in spawn_main\n",
      "  File \"/Library/Frameworks/Python.framework/Versions/3.10/lib/python3.10/multiprocessing/spawn.py\", line 116, in spawn_main\n",
      "  File \"/Library/Frameworks/Python.framework/Versions/3.10/lib/python3.10/multiprocessing/spawn.py\", line 116, in spawn_main\n",
      "  File \"/Library/Frameworks/Python.framework/Versions/3.10/lib/python3.10/multiprocessing/spawn.py\", line 116, in spawn_main\n",
      "    exitcode = _main(fd, parent_sentinel)    \n",
      "exitcode = _main(fd, parent_sentinel)\n",
      "  File \"/Library/Frameworks/Python.framework/Versions/3.10/lib/python3.10/multiprocessing/spawn.py\", line 126, in _main\n",
      "  File \"/Library/Frameworks/Python.framework/Versions/3.10/lib/python3.10/multiprocessing/spawn.py\", line 126, in _main\n",
      "    exitcode = _main(fd, parent_sentinel)\n",
      "  File \"/Library/Frameworks/Python.framework/Versions/3.10/lib/python3.10/multiprocessing/spawn.py\", line 126, in _main\n",
      "    self = reduction.pickle.load(from_parent)\n",
      "    self = reduction.pickle.load(from_parent)\n",
      "AttributeError:     Can't get attribute 'process_data_process' on <module '__main__' (built-in)>AttributeErrorself = reduction.pickle.load(from_parent)\n",
      ": \n",
      "Can't get attribute 'process_data_process' on <module '__main__' (built-in)>\n",
      "AttributeError: Can't get attribute 'process_data_process' on <module '__main__' (built-in)>\n",
      "    exitcode = _main(fd, parent_sentinel)\n",
      "  File \"/Library/Frameworks/Python.framework/Versions/3.10/lib/python3.10/multiprocessing/spawn.py\", line 126, in _main\n",
      "    self = reduction.pickle.load(from_parent)\n",
      "AttributeError: Can't get attribute 'process_data_process' on <module '__main__' (built-in)>\n"
     ]
    }
   ],
   "source": [
    "# Multiprocess Program\n",
    "from multiprocessing import Process, Queue\n",
    "import time\n",
    "\n",
    "def process_data_process(data, result):\n",
    "    processed_data = \"\"\n",
    "    for char in data:\n",
    "        time.sleep(0.1)  # Simulate processing time\n",
    "        processed_data += char.upper()\n",
    "    result.put(processed_data)\n",
    "\n",
    "def process_data_multiprocess(data):\n",
    "    chunk_size = len(data) // NUM_PROCESSES\n",
    "    processes = []\n",
    "    results = Queue()\n",
    "    start_index = 0\n",
    "\n",
    "    # Create processes to process data chunks concurrently\n",
    "    for _ in range(NUM_PROCESSES):\n",
    "        end_index = start_index + chunk_size\n",
    "        process_data = data[start_index:end_index]\n",
    "        process = Process(target=process_data_process, args=(process_data, results))\n",
    "        processes.append(process)\n",
    "        process.start()\n",
    "        start_index = end_index\n",
    "\n",
    "    # Wait for all processes to complete\n",
    "    for process in processes:\n",
    "        process.join()\n",
    "\n",
    "    # Concatenate processed data from all processes\n",
    "    processed_data = \"\"\n",
    "    while not results.empty():\n",
    "        processed_data += results.get()\n",
    "\n",
    "    return processed_data\n",
    "\n",
    "NUM_PROCESSES = 4\n",
    "\n",
    "with open('input_file.txt', 'r') as input_file:\n",
    "    data = input_file.read()\n",
    "\n",
    "start_time = time.time()\n",
    "processed_data = process_data_multiprocess(data)\n",
    "end_time = time.time()\n",
    "\n",
    "with open('output_file.txt', 'w') as output_file:\n",
    "    output_file.write(processed_data)\n",
    "\n",
    "execution_time = end_time - start_time\n",
    "print(f\"Execution time of Multiprocessing program is: {execution_time}\")"
   ]
  },
  {
   "cell_type": "code",
   "execution_count": 21,
   "metadata": {},
   "outputs": [
    {
     "name": "stdout",
     "output_type": "stream",
     "text": [
      "Execution time of Asynchronous program is: 2.427222728729248\n"
     ]
    }
   ],
   "source": [
    "# Asynchronous Program\n",
    "import asyncio\n",
    "import time\n",
    "\n",
    "async def process_data_async(data):\n",
    "    processed_data = \"\"\n",
    "    for char in data:\n",
    "        await asyncio.sleep(0.1)  # Simulate processing time\n",
    "        processed_data += char.upper()\n",
    "    return processed_data\n",
    "\n",
    "async def main():\n",
    "    with open('input_file.txt', 'r') as input_file:\n",
    "        data = input_file.read()\n",
    "\n",
    "    start_time = time.time()\n",
    "    processed_data = await process_data_async(data)\n",
    "    end_time = time.time()\n",
    "\n",
    "    with open('output_file.txt', 'w') as output_file:\n",
    "        output_file.write(processed_data)\n",
    "\n",
    "    execution_time = end_time - start_time\n",
    "    print(f\"Execution time of Asynchronous program is: {execution_time}\")\n",
    "\n",
    "# Run the asynchronous code within the existing event loop\n",
    "await main()"
   ]
  }
 ],
 "metadata": {
  "kernelspec": {
   "display_name": "Python 3",
   "language": "python",
   "name": "python3"
  },
  "language_info": {
   "codemirror_mode": {
    "name": "ipython",
    "version": 3
   },
   "file_extension": ".py",
   "mimetype": "text/x-python",
   "name": "python",
   "nbconvert_exporter": "python",
   "pygments_lexer": "ipython3",
   "version": "3.10.4"
  }
 },
 "nbformat": 4,
 "nbformat_minor": 2
}
