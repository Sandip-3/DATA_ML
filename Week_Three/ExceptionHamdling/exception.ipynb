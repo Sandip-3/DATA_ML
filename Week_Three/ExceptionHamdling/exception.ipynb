{
 "cells": [
  {
   "cell_type": "code",
   "execution_count": 1,
   "metadata": {},
   "outputs": [
    {
     "ename": "ZeroDivisionError",
     "evalue": "division by zero",
     "output_type": "error",
     "traceback": [
      "\u001b[0;31m---------------------------------------------------------------------------\u001b[0m",
      "\u001b[0;31mZeroDivisionError\u001b[0m                         Traceback (most recent call last)",
      "Cell \u001b[0;32mIn[1], line 15\u001b[0m\n\u001b[1;32m     12\u001b[0m first_number \u001b[38;5;241m=\u001b[39m \u001b[38;5;28mint\u001b[39m(\u001b[38;5;28minput\u001b[39m(\u001b[38;5;124m\"\u001b[39m\u001b[38;5;124mEnter Number:\u001b[39m\u001b[38;5;124m\"\u001b[39m))\n\u001b[1;32m     13\u001b[0m dividing_number \u001b[38;5;241m=\u001b[39m \u001b[38;5;28mint\u001b[39m(\u001b[38;5;28minput\u001b[39m(\u001b[38;5;124m\"\u001b[39m\u001b[38;5;124mEnter dividing number:\u001b[39m\u001b[38;5;124m\"\u001b[39m))\n\u001b[0;32m---> 15\u001b[0m result \u001b[38;5;241m=\u001b[39m \u001b[43mfirst_number\u001b[49m\u001b[43m \u001b[49m\u001b[38;5;241;43m/\u001b[39;49m\u001b[43m \u001b[49m\u001b[43mdividing_number\u001b[49m\n\u001b[1;32m     16\u001b[0m \u001b[38;5;28mprint\u001b[39m(\u001b[38;5;124mf\u001b[39m\u001b[38;5;124m\"\u001b[39m\u001b[38;5;124mNumber \u001b[39m\u001b[38;5;132;01m{\u001b[39;00mfirst_number\u001b[38;5;132;01m}\u001b[39;00m\u001b[38;5;124m divided by \u001b[39m\u001b[38;5;132;01m{\u001b[39;00mdividing_number\u001b[38;5;132;01m}\u001b[39;00m\u001b[38;5;124m number is \u001b[39m\u001b[38;5;132;01m{\u001b[39;00mresult\u001b[38;5;132;01m}\u001b[39;00m\u001b[38;5;124m\"\u001b[39m)\n",
      "\u001b[0;31mZeroDivisionError\u001b[0m: division by zero"
     ]
    }
   ],
   "source": [
    "'''Exception Handling allows you to handle and manage errors that may occur during \n",
    "the execution of your python code.\n",
    "\n",
    "** Different types of common Exception are:\n",
    "  - SyntaxError\n",
    "  - ValueError\n",
    "  - ZeroDivisionError\n",
    "  - FileNotFoundError\n",
    "  - AssertionError\n",
    "'''\n",
    "\n",
    "first_number = int(input(\"Enter Number:\"))\n",
    "dividing_number = int(input(\"Enter dividing number:\"))\n",
    "\n",
    "result = first_number / dividing_number\n",
    "print(f\"Number {first_number} divided by {dividing_number} number is {result}\")"
   ]
  },
  {
   "cell_type": "code",
   "execution_count": 2,
   "metadata": {},
   "outputs": [
    {
     "name": "stdout",
     "output_type": "stream",
     "text": [
      "Exception Occured\n"
     ]
    }
   ],
   "source": [
    "# To avoid such error in program execution it is important to handle those exception \n",
    "\n",
    "try:\n",
    "    first_number = int(input(\"Enter Number:\"))\n",
    "    dividing_number = int(input(\"Enter dividing number:\"))\n",
    "\n",
    "    result = first_number / dividing_number\n",
    "    print(f\"Number {first_number} divided by {dividing_number} number is {result}\")\n",
    "except Exception as e:\n",
    "    print(\"Exception Occured\")"
   ]
  },
  {
   "cell_type": "code",
   "execution_count": 4,
   "metadata": {},
   "outputs": [
    {
     "name": "stdout",
     "output_type": "stream",
     "text": [
      "Error Dividing by zero details. division by zero\n"
     ]
    }
   ],
   "source": [
    "# We can add multiple except block but make sure not calling parent class at first\n",
    "\n",
    "try:\n",
    "    first_number = int(input(\"Enter Number:\"))\n",
    "    dividing_number = int(input(\"Enter dividing number:\"))\n",
    "\n",
    "    result = first_number / dividing_number\n",
    "    print(f\"Number {first_number} divided by {dividing_number} number is {result}\")\n",
    "except ValueError:\n",
    "    print(\"Invalid input integer value Expected details.\")\n",
    "except ZeroDivisionError:\n",
    "    print(f\"Error Dividing by zero details.\")\n",
    "except Exception as e:\n",
    "    print(f\"Exception {e} occured\")"
   ]
  },
  {
   "cell_type": "code",
   "execution_count": 5,
   "metadata": {},
   "outputs": [
    {
     "name": "stdout",
     "output_type": "stream",
     "text": [
      "Number 12 divided by 12 number is 1.0\n",
      "Executed without exception\n"
     ]
    }
   ],
   "source": [
    "# We can use the `else` keyword to define a block of code to be executed if no errors were raised.\n",
    "try:\n",
    "    first_number = int(input(\"Enter Number:\"))\n",
    "    dividing_number = int(input(\"Enter dividing number:\"))\n",
    "\n",
    "    result = first_number / dividing_number\n",
    "    print(f\"Number {first_number} divided by {dividing_number} number is {result}\")\n",
    "except ValueError:\n",
    "    print(\"Invalid input integer value Expected details.\")\n",
    "except ZeroDivisionError:\n",
    "    print(f\"Error Dividing by zero details.\")\n",
    "except Exception as e:\n",
    "    print(f\"Exception {e} occured\")\n",
    "else:\n",
    "    print(\"Executed without exception\")\n"
   ]
  },
  {
   "cell_type": "code",
   "execution_count": 6,
   "metadata": {},
   "outputs": [
    {
     "name": "stdout",
     "output_type": "stream",
     "text": [
      "Error Dividing by zero details.\n",
      "This block runs either exception occurs or not\n"
     ]
    }
   ],
   "source": [
    "# The `finally` block is used in exception handling to specify code that must be exceuted regardless of whether an exception occurs or not.\n",
    "\n",
    "try:\n",
    "    first_number = int(input(\"Enter Number:\"))\n",
    "    dividing_number = int(input(\"Enter dividing number:\"))\n",
    "\n",
    "    result = first_number / dividing_number\n",
    "    print(f\"Number {first_number} divided by {dividing_number} number is {result}\")\n",
    "except ValueError:\n",
    "    print(\"Invalid input integer value Expected details.\")\n",
    "except ZeroDivisionError:\n",
    "    print(f\"Error Dividing by zero details.\")\n",
    "except Exception as e:\n",
    "    print(f\"Exception {e} occured\")\n",
    "else:\n",
    "    print(\"Executed without exception\")\n",
    "finally:\n",
    "    print(\"This block runs either exception occurs or not\")"
   ]
  },
  {
   "cell_type": "code",
   "execution_count": 9,
   "metadata": {},
   "outputs": [
    {
     "name": "stdout",
     "output_type": "stream",
     "text": [
      "Number must be positive.\n"
     ]
    }
   ],
   "source": [
    "#  You can use `raise` keyword to throw an Exception intentionally.\n",
    "\n",
    "def calculate(number):\n",
    "    if number < 0:\n",
    "        raise ValueError(\"Number must be positive.\")\n",
    "    else:\n",
    "        return number ** 0.5\n",
    "    \n",
    "try:\n",
    "    input_number = int(input(\"Enter a  number:\"))\n",
    "    result = calculate(input_number)\n",
    "    print(result)\n",
    "except ValueError as e:\n",
    "    print(e)"
   ]
  }
 ],
 "metadata": {
  "kernelspec": {
   "display_name": "Python 3",
   "language": "python",
   "name": "python3"
  },
  "language_info": {
   "codemirror_mode": {
    "name": "ipython",
    "version": 3
   },
   "file_extension": ".py",
   "mimetype": "text/x-python",
   "name": "python",
   "nbconvert_exporter": "python",
   "pygments_lexer": "ipython3",
   "version": "3.10.4"
  }
 },
 "nbformat": 4,
 "nbformat_minor": 2
}
